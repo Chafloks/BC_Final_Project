{
 "cells": [
  {
   "cell_type": "code",
   "execution_count": 1,
   "metadata": {},
   "outputs": [],
   "source": [
    "from selenium import webdriver\n",
    "from selenium.webdriver.common.keys import Keys\n",
    "from bs4 import BeautifulSoup as bs\n",
    "import time\n",
    "import pandas as pd\n",
    "import requests\n",
    "import selenium"
   ]
  },
  {
   "cell_type": "code",
   "execution_count": 2,
   "metadata": {},
   "outputs": [],
   "source": [
    "path = \"C:\\Program Files (x86)\\chromedriver.exe\"\n",
    "driver = webdriver.Chrome(path)\n",
    "driver.get(\"https://us.trend-calendar.com/trend/2020-03-01.html\")"
   ]
  },
  {
   "cell_type": "code",
   "execution_count": 3,
   "metadata": {},
   "outputs": [],
   "source": [
    "trend_dates = {}\n",
    "pageable = True\n",
    "counter = 30\n",
    "while pageable == True:\n",
    "    time.sleep(0.5)\n",
    "    contents = driver.find_element_by_class_name(\"ranking\")\n",
    "    contents_html = contents.get_attribute(\"innerHTML\")\n",
    "    soup = bs(contents_html)\n",
    "    anchors = soup.find_all(\"a\")\n",
    "    trends = []\n",
    "    header = driver.find_element_by_class_name(\"entry-title\")\n",
    "    date = header.text.split(\"on \",1)[1]\n",
    "    for a in anchors[:4]:\n",
    "        url = a[\"href\"]\n",
    "        text = a.text\n",
    "        d = {\"URL\": url, \"trends\": text}\n",
    "        trends.append(d)\n",
    "    trend_dates[date] = trends\n",
    "    try:\n",
    "        submit_button = driver.find_elements_by_class_name(\"yesterdaytomorrow\")[1]\n",
    "        pageable = True\n",
    "        submit_button.click()\n",
    "        counter -= 1\n",
    "        if counter == 0:\n",
    "            pageable = False\n",
    "    except:\n",
    "        pageable = False"
   ]
  },
  {
   "cell_type": "code",
   "execution_count": 4,
   "metadata": {},
   "outputs": [],
   "source": [
    "driver.quit()"
   ]
  },
  {
   "cell_type": "code",
   "execution_count": 4,
   "metadata": {},
   "outputs": [
    {
     "data": {
      "text/plain": [
       "30"
      ]
     },
     "execution_count": 4,
     "metadata": {},
     "output_type": "execute_result"
    }
   ],
   "source": [
    "len(trend_dates)"
   ]
  },
  {
   "cell_type": "code",
   "execution_count": 9,
   "metadata": {},
   "outputs": [],
   "source": [
    "driver.get(\"https://www.twitter.com/login\")\n",
    "time.sleep(1)\n",
    "usernameInput = driver.find_element_by_name(\"session[username_or_email]\")\n",
    "passwordInput = driver.find_element_by_name(\"session[password]\")\n",
    "usernameInput.send_keys(\"chuck45630256\")\n",
    "passwordInput.send_keys(\"Longbow1@\")\n",
    "passwordInput.send_keys(Keys.ENTER)\n",
    "time.sleep(5)"
   ]
  },
  {
   "cell_type": "code",
   "execution_count": null,
   "metadata": {},
   "outputs": [],
   "source": [
    "March = []\n",
    "for date in trend_dates:\n",
    "    for trend in trend_dates[date]:\n",
    "        driver.get(trend['URL'])\n",
    "        time.sleep(1.5)\n",
    "        counter = 4\n",
    "        text_tweets = []\n",
    "        while counter != 0:\n",
    "            try:\n",
    "                contents = driver.find_element_by_class_name(\"css-1dbjc4n\")\n",
    "                contents_html = contents.get_attribute(\"innerHTML\")\n",
    "                soup = bs(contents_html)\n",
    "                tweet_html = soup.find_all(\"div\", {\"data-testid\":\"tweet\"})\n",
    "                for tweet in tweet_html:\n",
    "                    text = tweet.find(\"div\", class_ = \"css-901oao r-jwli3a r-1qd0xha r-a023e6 r-16dba41 r-ad9z0x r-bcqeeo r-bnwqim r-qvutc0\").get_text()\n",
    "                    text_tweets.append(text)\n",
    "                driver.execute_script(\"window.scrollTo(0, document.body.scrollHeight);\")\n",
    "                time.sleep(5)\n",
    "                counter -= 1\n",
    "            except:\n",
    "                driver.execute_script(\"window.scrollTo(0, document.body.scrollHeight);\")\n",
    "                time.sleep(5)\n",
    "                counter -= 1\n",
    "        March.append(text_tweets)\n",
    "        time.sleep(1)"
   ]
  },
  {
   "cell_type": "code",
   "execution_count": 17,
   "metadata": {},
   "outputs": [
    {
     "name": "stdout",
     "output_type": "stream",
     "text": [
      "125\n"
     ]
    }
   ],
   "source": [
    "for i in range(len(March)):\n",
    "    print(len(March[i]))"
   ]
  },
  {
   "cell_type": "code",
   "execution_count": null,
   "metadata": {},
   "outputs": [],
   "source": []
  }
 ],
 "metadata": {
  "kernelspec": {
   "display_name": "Python 3",
   "language": "python",
   "name": "python3"
  },
  "language_info": {
   "codemirror_mode": {
    "name": "ipython",
    "version": 3
   },
   "file_extension": ".py",
   "mimetype": "text/x-python",
   "name": "python",
   "nbconvert_exporter": "python",
   "pygments_lexer": "ipython3",
   "version": "3.7.6"
  }
 },
 "nbformat": 4,
 "nbformat_minor": 4
}
