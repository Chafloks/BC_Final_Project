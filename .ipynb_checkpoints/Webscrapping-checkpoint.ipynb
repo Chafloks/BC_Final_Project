{
 "cells": [
  {
   "cell_type": "code",
   "execution_count": 1,
   "metadata": {},
   "outputs": [],
   "source": [
    "from selenium import webdriver\n",
    "from selenium.webdriver.common.keys import Keys\n",
    "import time\n",
    "import pandas as pd\n",
    "import requests"
   ]
  },
  {
   "cell_type": "code",
   "execution_count": 2,
   "metadata": {},
   "outputs": [],
   "source": [
    "path = \"C:\\Program Files (x86)\\chromedriver.exe\"\n",
    "driver = webdriver.Chrome(path)\n",
    "driver.get(\"https://us.trend-calendar.com/trend/2020-01-01.html\")"
   ]
  },
  {
   "cell_type": "code",
   "execution_count": 7,
   "metadata": {},
   "outputs": [],
   "source": [
    "counter = 365\n",
    "trend = {}\n",
    "while counter != 0:\n",
    "    counter -= 1\n",
    "    header = driver.find_elements_by_class_name(\"entry-title\")\n",
    "    for content in header:\n",
    "        res = []\n",
    "        text = content.text\n",
    "    date = text.split(\"on \",1)[1]\n",
    "    contents = driver.find_elements_by_class_name(\"ranking\")\n",
    "    for content in contents:\n",
    "        res = []\n",
    "        text = content.text\n",
    "        if text != '' :\n",
    "            res.append(text)\n",
    "    trends = res[0]    \n",
    "    trend[date] = trends.split(\"\\n\")[:5]\n",
    "    trends = []\n",
    "    # click submit button\n",
    "    submit_button = driver.find_elements_by_class_name(\"yesterdaytomorrow\")[1]\n",
    "    submit_button.click()\n",
    "    time.sleep(1)"
   ]
  },
  {
   "cell_type": "code",
   "execution_count": 8,
   "metadata": {},
   "outputs": [
    {
     "data": {
      "text/plain": [
       "{'1st January, 2020': ['Winter Classic 2020',\n",
       "  'Post Malone',\n",
       "  'Paula Abdul',\n",
       "  'Premier League',\n",
       "  'Lucy Hale'],\n",
       " '2nd January, 2020': ['Linda Ronstadt',\n",
       "  'Earthquake',\n",
       "  'Amanda Pacheco',\n",
       "  'Mollie Fitzgerald',\n",
       "  'David Stern'],\n",
       " '3rd January, 2020': ['Jason Garrett',\n",
       "  'DaBaby',\n",
       "  'Tennessee football',\n",
       "  'Iran',\n",
       "  'Ethan Couch'],\n",
       " '4th January, 2020': ['Cameron Diaz', 'CNN', 'FA Cup', 'La Liga', 'DaBaby'],\n",
       " '5th January, 2020': ['Colin Kaepernick',\n",
       "  'Buffalo Bills',\n",
       "  'Saints',\n",
       "  'Tanya Tucker',\n",
       "  'FA Cup']}"
      ]
     },
     "execution_count": 8,
     "metadata": {},
     "output_type": "execute_result"
    }
   ],
   "source": [
    "trend"
   ]
  },
  {
   "cell_type": "code",
   "execution_count": null,
   "metadata": {},
   "outputs": [],
   "source": []
  }
 ],
 "metadata": {
  "kernelspec": {
   "display_name": "Python 3",
   "language": "python",
   "name": "python3"
  },
  "language_info": {
   "codemirror_mode": {
    "name": "ipython",
    "version": 3
   },
   "file_extension": ".py",
   "mimetype": "text/x-python",
   "name": "python",
   "nbconvert_exporter": "python",
   "pygments_lexer": "ipython3",
   "version": "3.7.6"
  }
 },
 "nbformat": 4,
 "nbformat_minor": 4
}
