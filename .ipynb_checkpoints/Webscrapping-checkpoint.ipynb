{
 "cells": [
  {
   "cell_type": "code",
   "execution_count": 28,
   "metadata": {},
   "outputs": [],
   "source": [
    "from selenium import webdriver\n",
    "from selenium.webdriver.common.keys import Keys\n",
    "import time\n",
    "import pandas as pd\n",
    "import requests"
   ]
  },
  {
   "cell_type": "code",
   "execution_count": 29,
   "metadata": {},
   "outputs": [],
   "source": [
    "#path = \"C:\\Program Files (x86)\\chromedriver.exe\"\n",
    "path2 = '/usr/local/bin/chromedriver'\n",
    "driver = webdriver.Chrome(path2)\n",
    "driver.get(\"https://us.trend-calendar.com/trend/2020-01-01.html\")"
   ]
  },
  {
   "cell_type": "code",
   "execution_count": 30,
   "metadata": {},
   "outputs": [
    {
     "ename": "IndexError",
     "evalue": "list index out of range",
     "output_type": "error",
     "traceback": [
      "\u001b[0;31m---------------------------------------------------------------------------\u001b[0m",
      "\u001b[0;31mIndexError\u001b[0m                                Traceback (most recent call last)",
      "\u001b[0;32m<ipython-input-30-ece5fac34ac1>\u001b[0m in \u001b[0;36m<module>\u001b[0;34m\u001b[0m\n\u001b[1;32m      8\u001b[0m         \u001b[0mres\u001b[0m \u001b[0;34m=\u001b[0m \u001b[0;34m[\u001b[0m\u001b[0;34m]\u001b[0m\u001b[0;34m\u001b[0m\u001b[0;34m\u001b[0m\u001b[0m\n\u001b[1;32m      9\u001b[0m         \u001b[0mtext\u001b[0m \u001b[0;34m=\u001b[0m \u001b[0mcontent\u001b[0m\u001b[0;34m.\u001b[0m\u001b[0mtext\u001b[0m\u001b[0;34m\u001b[0m\u001b[0;34m\u001b[0m\u001b[0m\n\u001b[0;32m---> 10\u001b[0;31m     \u001b[0mdate\u001b[0m \u001b[0;34m=\u001b[0m \u001b[0mtext\u001b[0m\u001b[0;34m.\u001b[0m\u001b[0msplit\u001b[0m\u001b[0;34m(\u001b[0m\u001b[0;34m\"on \"\u001b[0m\u001b[0;34m,\u001b[0m\u001b[0;36m1\u001b[0m\u001b[0;34m)\u001b[0m\u001b[0;34m[\u001b[0m\u001b[0;36m1\u001b[0m\u001b[0;34m]\u001b[0m\u001b[0;34m\u001b[0m\u001b[0;34m\u001b[0m\u001b[0m\n\u001b[0m\u001b[1;32m     11\u001b[0m     \u001b[0mcontents\u001b[0m \u001b[0;34m=\u001b[0m \u001b[0mdriver\u001b[0m\u001b[0;34m.\u001b[0m\u001b[0mfind_elements_by_class_name\u001b[0m\u001b[0;34m(\u001b[0m\u001b[0;34m\"ranking\"\u001b[0m\u001b[0;34m)\u001b[0m\u001b[0;34m\u001b[0m\u001b[0;34m\u001b[0m\u001b[0m\n\u001b[1;32m     12\u001b[0m     \u001b[0;32mfor\u001b[0m \u001b[0mcontent\u001b[0m \u001b[0;32min\u001b[0m \u001b[0mcontents\u001b[0m\u001b[0;34m:\u001b[0m\u001b[0;34m\u001b[0m\u001b[0;34m\u001b[0m\u001b[0m\n",
      "\u001b[0;31mIndexError\u001b[0m: list index out of range"
     ]
    }
   ],
   "source": [
    "counter = 365\n",
    "trend = {}\n",
    "l = []\n",
    "while counter != 0:\n",
    "    counter -= 1\n",
    "    header = driver.find_elements_by_class_name(\"entry-title\")\n",
    "    for content in header:\n",
    "        res = []\n",
    "        text = content.text\n",
    "    date = text.split(\"on \",1)[1]\n",
    "    contents = driver.find_elements_by_class_name(\"ranking\")\n",
    "    for content in contents:\n",
    "        text = content.text\n",
    "        if text != '' :\n",
    "            res.append(text)     \n",
    "    trends = res[0]    \n",
    "    trend[date] = trends.split(\"\\n\")[:5]\n",
    "    l.append(trends.split(\"\\n\")[:5])\n",
    "    trends = []\n",
    "    # click submit button\n",
    "    submit_button = driver.find_elements_by_class_name(\"yesterdaytomorrow\")[1]\n",
    "    submit_button.click()\n",
    "    time.sleep(1)"
   ]
  },
  {
   "cell_type": "code",
   "execution_count": 26,
   "metadata": {},
   "outputs": [],
   "source": [
    "#trend"
   ]
  },
  {
   "cell_type": "code",
   "execution_count": 21,
   "metadata": {},
   "outputs": [
    {
     "data": {
      "text/plain": [
       "['Winter Classic 2020',\n",
       " 'Post Malone',\n",
       " 'Paula Abdul',\n",
       " 'Premier League',\n",
       " 'Lucy Hale']"
      ]
     },
     "execution_count": 21,
     "metadata": {},
     "output_type": "execute_result"
    }
   ],
   "source": [
    "trend['1st January, 2020']"
   ]
  },
  {
   "cell_type": "code",
   "execution_count": 32,
   "metadata": {},
   "outputs": [
    {
     "data": {
      "text/html": [
       "<div>\n",
       "<style scoped>\n",
       "    .dataframe tbody tr th:only-of-type {\n",
       "        vertical-align: middle;\n",
       "    }\n",
       "\n",
       "    .dataframe tbody tr th {\n",
       "        vertical-align: top;\n",
       "    }\n",
       "\n",
       "    .dataframe thead th {\n",
       "        text-align: right;\n",
       "    }\n",
       "</style>\n",
       "<table border=\"1\" class=\"dataframe\">\n",
       "  <thead>\n",
       "    <tr style=\"text-align: right;\">\n",
       "      <th></th>\n",
       "      <th>1</th>\n",
       "      <th>2</th>\n",
       "      <th>3</th>\n",
       "      <th>4</th>\n",
       "      <th>5</th>\n",
       "    </tr>\n",
       "  </thead>\n",
       "  <tbody>\n",
       "    <tr>\n",
       "      <th>0</th>\n",
       "      <td>#NewYearsDay</td>\n",
       "      <td>Welcome to 2020</td>\n",
       "      <td>Pope</td>\n",
       "      <td>#RoseBowl</td>\n",
       "      <td>#CitrusBowl</td>\n",
       "    </tr>\n",
       "    <tr>\n",
       "      <th>1</th>\n",
       "      <td>New Guy</td>\n",
       "      <td>#ThursdayThoughts</td>\n",
       "      <td>#worldintrovertday</td>\n",
       "      <td>Opie</td>\n",
       "      <td>Anna Mae</td>\n",
       "    </tr>\n",
       "    <tr>\n",
       "      <th>2</th>\n",
       "      <td>#wwlll</td>\n",
       "      <td>#TrumpsWar</td>\n",
       "      <td>#WWIII</td>\n",
       "      <td>Rose McGowan</td>\n",
       "      <td>Soleimani</td>\n",
       "    </tr>\n",
       "    <tr>\n",
       "      <th>3</th>\n",
       "      <td>Meat Loaf</td>\n",
       "      <td>#ww3memes</td>\n",
       "      <td>#njwk14</td>\n",
       "      <td>Tucker Carlson</td>\n",
       "      <td>#SaturdayThoughts</td>\n",
       "    </tr>\n",
       "    <tr>\n",
       "      <th>4</th>\n",
       "      <td>#IfTheWorldHadNoMen</td>\n",
       "      <td>#BTSxGDA</td>\n",
       "      <td>Happy Founders</td>\n",
       "      <td>#PowerTV</td>\n",
       "      <td>#GoldenGlobes</td>\n",
       "    </tr>\n",
       "    <tr>\n",
       "      <th>...</th>\n",
       "      <td>...</td>\n",
       "      <td>...</td>\n",
       "      <td>...</td>\n",
       "      <td>...</td>\n",
       "      <td>...</td>\n",
       "    </tr>\n",
       "    <tr>\n",
       "      <th>343</th>\n",
       "      <td>Quebec</td>\n",
       "      <td>Lincoln Project</td>\n",
       "      <td>Mark Meadows</td>\n",
       "      <td>#BidenHarris2020</td>\n",
       "      <td>hobi</td>\n",
       "    </tr>\n",
       "    <tr>\n",
       "      <th>344</th>\n",
       "      <td>Four Seasons Total Landscaping</td>\n",
       "      <td>Notre Dame</td>\n",
       "      <td>Dave Chappelle</td>\n",
       "      <td>Alex Trebek</td>\n",
       "      <td>Jim Carrey</td>\n",
       "    </tr>\n",
       "    <tr>\n",
       "      <th>345</th>\n",
       "      <td>Pfizer</td>\n",
       "      <td>Eva Longoria</td>\n",
       "      <td>Toph</td>\n",
       "      <td>taemin</td>\n",
       "      <td>Brady</td>\n",
       "    </tr>\n",
       "    <tr>\n",
       "      <th>346</th>\n",
       "      <td>Xbox</td>\n",
       "      <td>Major League</td>\n",
       "      <td>Pompeo</td>\n",
       "      <td>Veterans Day</td>\n",
       "      <td>#BidenWonDay</td>\n",
       "    </tr>\n",
       "    <tr>\n",
       "      <th>347</th>\n",
       "      <td>Kodak</td>\n",
       "      <td>Rigby</td>\n",
       "      <td>Zoey 101</td>\n",
       "      <td>Veterans Day</td>\n",
       "      <td>#VeteransDay</td>\n",
       "    </tr>\n",
       "  </tbody>\n",
       "</table>\n",
       "<p>348 rows × 5 columns</p>\n",
       "</div>"
      ],
      "text/plain": [
       "                                  1                  2                   3  \\\n",
       "0                      #NewYearsDay    Welcome to 2020                Pope   \n",
       "1                           New Guy  #ThursdayThoughts  #worldintrovertday   \n",
       "2                            #wwlll         #TrumpsWar              #WWIII   \n",
       "3                         Meat Loaf          #ww3memes             #njwk14   \n",
       "4               #IfTheWorldHadNoMen           #BTSxGDA      Happy Founders   \n",
       "..                              ...                ...                 ...   \n",
       "343                          Quebec    Lincoln Project        Mark Meadows   \n",
       "344  Four Seasons Total Landscaping         Notre Dame      Dave Chappelle   \n",
       "345                          Pfizer       Eva Longoria                Toph   \n",
       "346                            Xbox       Major League              Pompeo   \n",
       "347                           Kodak              Rigby            Zoey 101   \n",
       "\n",
       "                    4                  5  \n",
       "0           #RoseBowl        #CitrusBowl  \n",
       "1                Opie           Anna Mae  \n",
       "2        Rose McGowan          Soleimani  \n",
       "3      Tucker Carlson  #SaturdayThoughts  \n",
       "4            #PowerTV      #GoldenGlobes  \n",
       "..                ...                ...  \n",
       "343  #BidenHarris2020               hobi  \n",
       "344       Alex Trebek         Jim Carrey  \n",
       "345            taemin              Brady  \n",
       "346      Veterans Day       #BidenWonDay  \n",
       "347      Veterans Day       #VeteransDay  \n",
       "\n",
       "[348 rows x 5 columns]"
      ]
     },
     "execution_count": 32,
     "metadata": {},
     "output_type": "execute_result"
    }
   ],
   "source": [
    "df = pd.DataFrame(l, columns = ['1', '2','3', '4', '5'])\n",
    "df"
   ]
  },
  {
   "cell_type": "code",
   "execution_count": 33,
   "metadata": {},
   "outputs": [],
   "source": [
    "#l"
   ]
  },
  {
   "cell_type": "code",
   "execution_count": null,
   "metadata": {},
   "outputs": [],
   "source": []
  }
 ],
 "metadata": {
  "kernelspec": {
   "display_name": "Python 3",
   "language": "python",
   "name": "python3"
  },
  "language_info": {
   "codemirror_mode": {
    "name": "ipython",
    "version": 3
   },
   "file_extension": ".py",
   "mimetype": "text/x-python",
   "name": "python",
   "nbconvert_exporter": "python",
   "pygments_lexer": "ipython3",
   "version": "3.7.6"
  }
 },
 "nbformat": 4,
 "nbformat_minor": 4
}
