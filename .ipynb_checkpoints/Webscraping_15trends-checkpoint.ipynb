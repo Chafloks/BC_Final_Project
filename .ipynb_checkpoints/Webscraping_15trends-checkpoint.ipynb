{
 "cells": [
  {
   "cell_type": "code",
   "execution_count": null,
   "metadata": {},
   "outputs": [],
   "source": [
    "from selenium import webdriver\n",
    "from selenium.webdriver.common.keys import Keys\n",
    "import time\n",
    "import pandas as pd\n",
    "import requests"
   ]
  },
  {
   "cell_type": "code",
   "execution_count": null,
   "metadata": {},
   "outputs": [],
   "source": [
    "#path = \"C:\\Program Files (x86)\\chromedriver.exe\"\n",
    "# path2 = '/usr/local/bin/chromedriver'\n",
    "path3 = '/Users/allisonhowe/chromedriver'\n",
    "driver = webdriver.Chrome(path3)\n",
    "driver.get(\"https://us.trend-calendar.com/trend/2020-01-01.html\")"
   ]
  },
  {
   "cell_type": "code",
   "execution_count": null,
   "metadata": {},
   "outputs": [],
   "source": [
    "counter = 365\n",
    "trend = {}\n",
    "l = []\n",
    "while counter != 0:\n",
    "    counter -= 1\n",
    "    header = driver.find_elements_by_class_name(\"entry-title\")\n",
    "    for content in header:\n",
    "        res = []\n",
    "        text = content.text\n",
    "    date = text.split(\"on \",1)[1]\n",
    "    contents = driver.find_elements_by_class_name(\"ranking\")\n",
    "    for content in contents:\n",
    "        text = content.text\n",
    "        if text != '' :\n",
    "            res.append(text)     \n",
    "    trends = res[0]    \n",
    "    trend[date] = trends.split(\"\\n\")[:15]\n",
    "    l.append(trends.split(\"\\n\")[:15])\n",
    "    trends = []\n",
    "    # click submit button\n",
    "    submit_button = driver.find_elements_by_class_name(\"yesterdaytomorrow\")[1]\n",
    "    submit_button.click()\n",
    "    time.sleep(1)"
   ]
  },
  {
   "cell_type": "code",
   "execution_count": null,
   "metadata": {},
   "outputs": [],
   "source": [
    "#trend"
   ]
  },
  {
   "cell_type": "code",
   "execution_count": null,
   "metadata": {},
   "outputs": [],
   "source": [
    "trend['1st January, 2020']"
   ]
  },
  {
   "cell_type": "code",
   "execution_count": null,
   "metadata": {},
   "outputs": [],
   "source": [
    "df = pd.DataFrame(l, columns = ['1', '2','3', '4', '5', '6', '7', '8','9','10','11','12','13','14','15'])\n",
    "df.head(10)"
   ]
  },
  {
   "cell_type": "code",
   "execution_count": null,
   "metadata": {},
   "outputs": [],
   "source": [
    "#l"
   ]
  },
  {
   "cell_type": "code",
   "execution_count": null,
   "metadata": {},
   "outputs": [],
   "source": [
    "df.to_csv('trend_list_15.csv')"
   ]
  },
  {
   "cell_type": "code",
   "execution_count": null,
   "metadata": {},
   "outputs": [],
   "source": []
  }
 ],
 "metadata": {
  "kernelspec": {
   "display_name": "Python 3",
   "language": "python",
   "name": "python3"
  },
  "language_info": {
   "codemirror_mode": {
    "name": "ipython",
    "version": 3
   },
   "file_extension": ".py",
   "mimetype": "text/x-python",
   "name": "python",
   "nbconvert_exporter": "python",
   "pygments_lexer": "ipython3",
   "version": "3.7.6"
  }
 },
 "nbformat": 4,
 "nbformat_minor": 4
}
