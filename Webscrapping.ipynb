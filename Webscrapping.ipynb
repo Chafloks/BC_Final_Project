{
 "cells": [
  {
   "cell_type": "code",
   "execution_count": 28,
   "metadata": {},
   "outputs": [],
   "source": [
    "from selenium import webdriver\n",
    "from selenium.webdriver.common.keys import Keys\n",
    "import time\n",
    "import pandas as pd\n",
    "import requests"
   ]
  },
  {
   "cell_type": "code",
   "execution_count": 29,
   "metadata": {},
   "outputs": [],
   "source": [
    "#path = \"C:\\Program Files (x86)\\chromedriver.exe\"\n",
    "path2 = '/usr/local/bin/chromedriver'\n",
    "driver = webdriver.Chrome(path2)\n",
    "driver.get(\"https://us.trend-calendar.com/trend/2020-01-01.html\")"
   ]
  },
  {
   "cell_type": "code",
   "execution_count": 30,
   "metadata": {},
   "outputs": [
    {
     "ename": "IndexError",
     "evalue": "list index out of range",
     "output_type": "error",
     "traceback": [
      "\u001b[0;31m---------------------------------------------------------------------------\u001b[0m",
      "\u001b[0;31mIndexError\u001b[0m                                Traceback (most recent call last)",
      "\u001b[0;32m<ipython-input-30-ece5fac34ac1>\u001b[0m in \u001b[0;36m<module>\u001b[0;34m\u001b[0m\n\u001b[1;32m      8\u001b[0m         \u001b[0mres\u001b[0m \u001b[0;34m=\u001b[0m \u001b[0;34m[\u001b[0m\u001b[0;34m]\u001b[0m\u001b[0;34m\u001b[0m\u001b[0;34m\u001b[0m\u001b[0m\n\u001b[1;32m      9\u001b[0m         \u001b[0mtext\u001b[0m \u001b[0;34m=\u001b[0m \u001b[0mcontent\u001b[0m\u001b[0;34m.\u001b[0m\u001b[0mtext\u001b[0m\u001b[0;34m\u001b[0m\u001b[0;34m\u001b[0m\u001b[0m\n\u001b[0;32m---> 10\u001b[0;31m     \u001b[0mdate\u001b[0m \u001b[0;34m=\u001b[0m \u001b[0mtext\u001b[0m\u001b[0;34m.\u001b[0m\u001b[0msplit\u001b[0m\u001b[0;34m(\u001b[0m\u001b[0;34m\"on \"\u001b[0m\u001b[0;34m,\u001b[0m\u001b[0;36m1\u001b[0m\u001b[0;34m)\u001b[0m\u001b[0;34m[\u001b[0m\u001b[0;36m1\u001b[0m\u001b[0;34m]\u001b[0m\u001b[0;34m\u001b[0m\u001b[0;34m\u001b[0m\u001b[0m\n\u001b[0m\u001b[1;32m     11\u001b[0m     \u001b[0mcontents\u001b[0m \u001b[0;34m=\u001b[0m \u001b[0mdriver\u001b[0m\u001b[0;34m.\u001b[0m\u001b[0mfind_elements_by_class_name\u001b[0m\u001b[0;34m(\u001b[0m\u001b[0;34m\"ranking\"\u001b[0m\u001b[0;34m)\u001b[0m\u001b[0;34m\u001b[0m\u001b[0;34m\u001b[0m\u001b[0m\n\u001b[1;32m     12\u001b[0m     \u001b[0;32mfor\u001b[0m \u001b[0mcontent\u001b[0m \u001b[0;32min\u001b[0m \u001b[0mcontents\u001b[0m\u001b[0;34m:\u001b[0m\u001b[0;34m\u001b[0m\u001b[0;34m\u001b[0m\u001b[0m\n",
      "\u001b[0;31mIndexError\u001b[0m: list index out of range"
     ]
    }
   ],
   "source": [
    "counter = 365\n",
    "trend = {}\n",
    "l = []\n",
    "while counter != 0:\n",
    "    counter -= 1\n",
    "    header = driver.find_elements_by_class_name(\"entry-title\")\n",
    "    for content in header:\n",
    "        res = []\n",
    "        text = content.text\n",
    "    date = text.split(\"on \",1)[1]\n",
    "    contents = driver.find_elements_by_class_name(\"ranking\")\n",
    "    for content in contents:\n",
    "        text = content.text\n",
    "        if text != '' :\n",
    "            res.append(text)     \n",
    "    trends = res[0]    \n",
    "    trend[date] = trends.split(\"\\n\")[:5]\n",
    "    l.append(trends.split(\"\\n\")[:5])\n",
    "    trends = []\n",
    "    # click submit button\n",
    "    submit_button = driver.find_elements_by_class_name(\"yesterdaytomorrow\")[1]\n",
    "    submit_button.click()\n",
    "    time.sleep(1)"
   ]
  },
  {
   "cell_type": "code",
   "execution_count": 26,
   "metadata": {},
   "outputs": [],
   "source": [
    "#trend"
   ]
  },
  {
   "cell_type": "code",
   "execution_count": 21,
   "metadata": {},
   "outputs": [
    {
     "data": {
      "text/plain": [
       "['Winter Classic 2020',\n",
       " 'Post Malone',\n",
       " 'Paula Abdul',\n",
       " 'Premier League',\n",
       " 'Lucy Hale']"
      ]
     },
     "execution_count": 21,
     "metadata": {},
     "output_type": "execute_result"
    }
   ],
   "source": [
    "trend['1st January, 2020']"
   ]
  },
  {
   "cell_type": "code",
   "execution_count": 32,
   "metadata": {},
   "outputs": [
    {
     "data": {
      "text/html": [
       "<div>\n",
       "<style scoped>\n",
       "    .dataframe tbody tr th:only-of-type {\n",
       "        vertical-align: middle;\n",
       "    }\n",
       "\n",
       "    .dataframe tbody tr th {\n",
       "        vertical-align: top;\n",
       "    }\n",
       "\n",
       "    .dataframe thead th {\n",
       "        text-align: right;\n",
       "    }\n",
       "</style>\n",
       "<table border=\"1\" class=\"dataframe\">\n",
       "  <thead>\n",
       "    <tr style=\"text-align: right;\">\n",
       "      <th></th>\n",
       "      <th>1</th>\n",
       "      <th>2</th>\n",
       "      <th>3</th>\n",
       "      <th>4</th>\n",
       "      <th>5</th>\n",
       "    </tr>\n",
       "  </thead>\n",
       "  <tbody>\n",
       "    <tr>\n",
       "      <th>0</th>\n",
       "      <td>#NewYearsDay</td>\n",
       "      <td>Welcome to 2020</td>\n",
       "      <td>Pope</td>\n",
       "      <td>#RoseBowl</td>\n",
       "      <td>#CitrusBowl</td>\n",
       "    </tr>\n",
       "    <tr>\n",
       "      <th>1</th>\n",
       "      <td>New Guy</td>\n",
       "      <td>#ThursdayThoughts</td>\n",
       "      <td>#worldintrovertday</td>\n",
       "      <td>Opie</td>\n",
       "      <td>Anna Mae</td>\n",
       "    </tr>\n",
       "    <tr>\n",
       "      <th>2</th>\n",
       "      <td>#wwlll</td>\n",
       "      <td>#TrumpsWar</td>\n",
       "      <td>#WWIII</td>\n",
       "      <td>Rose McGowan</td>\n",
       "      <td>Soleimani</td>\n",
       "    </tr>\n",
       "    <tr>\n",
       "      <th>3</th>\n",
       "      <td>Meat Loaf</td>\n",
       "      <td>#ww3memes</td>\n",
       "      <td>#njwk14</td>\n",
       "      <td>Tucker Carlson</td>\n",
       "      <td>#SaturdayThoughts</td>\n",
       "    </tr>\n",
       "    <tr>\n",
       "      <th>4</th>\n",
       "      <td>#IfTheWorldHadNoMen</td>\n",
       "      <td>#BTSxGDA</td>\n",
       "      <td>Happy Founders</td>\n",
       "      <td>#PowerTV</td>\n",
       "      <td>#GoldenGlobes</td>\n",
       "    </tr>\n",
       "    <tr>\n",
       "      <th>...</th>\n",
       "      <td>...</td>\n",
       "      <td>...</td>\n",
       "      <td>...</td>\n",
       "      <td>...</td>\n",
       "      <td>...</td>\n",
       "    </tr>\n",
       "    <tr>\n",
       "      <th>343</th>\n",
       "      <td>Quebec</td>\n",
       "      <td>Lincoln Project</td>\n",
       "      <td>Mark Meadows</td>\n",
       "      <td>#BidenHarris2020</td>\n",
       "      <td>hobi</td>\n",
       "    </tr>\n",
       "    <tr>\n",
       "      <th>344</th>\n",
       "      <td>Four Seasons Total Landscaping</td>\n",
       "      <td>Notre Dame</td>\n",
       "      <td>Dave Chappelle</td>\n",
       "      <td>Alex Trebek</td>\n",
       "      <td>Jim Carrey</td>\n",
       "    </tr>\n",
       "    <tr>\n",
       "      <th>345</th>\n",
       "      <td>Pfizer</td>\n",
       "      <td>Eva Longoria</td>\n",
       "      <td>Toph</td>\n",
       "      <td>taemin</td>\n",
       "      <td>Brady</td>\n",
       "    </tr>\n",
       "    <tr>\n",
       "      <th>346</th>\n",
       "      <td>Xbox</td>\n",
       "      <td>Major League</td>\n",
       "      <td>Pompeo</td>\n",
       "      <td>Veterans Day</td>\n",
       "      <td>#BidenWonDay</td>\n",
       "    </tr>\n",
       "    <tr>\n",
       "      <th>347</th>\n",
       "      <td>Kodak</td>\n",
       "      <td>Rigby</td>\n",
       "      <td>Zoey 101</td>\n",
       "      <td>Veterans Day</td>\n",
       "      <td>#VeteransDay</td>\n",
       "    </tr>\n",
       "  </tbody>\n",
       "</table>\n",
       "<p>348 rows × 5 columns</p>\n",
       "</div>"
      ],
      "text/plain": [
       "                                  1                  2                   3  \\\n",
       "0                      #NewYearsDay    Welcome to 2020                Pope   \n",
       "1                           New Guy  #ThursdayThoughts  #worldintrovertday   \n",
       "2                            #wwlll         #TrumpsWar              #WWIII   \n",
       "3                         Meat Loaf          #ww3memes             #njwk14   \n",
       "4               #IfTheWorldHadNoMen           #BTSxGDA      Happy Founders   \n",
       "..                              ...                ...                 ...   \n",
       "343                          Quebec    Lincoln Project        Mark Meadows   \n",
       "344  Four Seasons Total Landscaping         Notre Dame      Dave Chappelle   \n",
       "345                          Pfizer       Eva Longoria                Toph   \n",
       "346                            Xbox       Major League              Pompeo   \n",
       "347                           Kodak              Rigby            Zoey 101   \n",
       "\n",
       "                    4                  5  \n",
       "0           #RoseBowl        #CitrusBowl  \n",
       "1                Opie           Anna Mae  \n",
       "2        Rose McGowan          Soleimani  \n",
       "3      Tucker Carlson  #SaturdayThoughts  \n",
       "4            #PowerTV      #GoldenGlobes  \n",
       "..                ...                ...  \n",
       "343  #BidenHarris2020               hobi  \n",
       "344       Alex Trebek         Jim Carrey  \n",
       "345            taemin              Brady  \n",
       "346      Veterans Day       #BidenWonDay  \n",
       "347      Veterans Day       #VeteransDay  \n",
       "\n",
       "[348 rows x 5 columns]"
      ]
     },
     "execution_count": 32,
     "metadata": {},
     "output_type": "execute_result"
    }
   ],
   "source": [
    "df = pd.DataFrame(l, columns = ['1', '2','3', '4', '5'])\n",
    "df"
   ]
  },
  {
   "cell_type": "code",
   "execution_count": 33,
   "metadata": {},
   "outputs": [],
   "source": [
    "#l"
   ]
  },
  {
   "cell_type": "code",
   "execution_count": 34,
   "metadata": {},
   "outputs": [
    {
     "data": {
      "text/plain": [
       "\"1,2,3,4,5\\n#NewYearsDay,Welcome to 2020,Pope,#RoseBowl,#CitrusBowl\\nNew Guy,#ThursdayThoughts,#worldintrovertday,Opie,Anna Mae\\n#wwlll,#TrumpsWar,#WWIII,Rose McGowan,Soleimani\\nMeat Loaf,#ww3memes,#njwk14,Tucker Carlson,#SaturdayThoughts\\n#IfTheWorldHadNoMen,#BTSxGDA,Happy Founders,#PowerTV,#GoldenGlobes\\nGeorge Lopez,#ARMYSelcaDay,#RuinAMovieWithOneWord,Bolton,#TheBachelor\\n#TuesdayThoughts,Nikki Haley,#7isComing,#WithMyNextPaycheckIWill,Meghan McCain\\n#WednesdayWisdom,#IvotedforHillaryClinton,#iHeartAwards,#IranVSAmerica,Jillian Michaels\\nBoosie,#SniffyMcAdderall,#LawEnforcementAppreciationDay,#ThursdayThoughts,Happy Founders\\n#IAmNonbinary,Life is Good,#FridayFeeling,Sum 2 Prove,#RareOutNow\\n#Deku,#WorstThingToYellOutBeforeSex,#justinbieberisoverparty,#WitnessesAndDocuments,#SaturdayMorning\\n#Deku,#WorstThingToYellOutBeforeSex,#justinbieberisoverparty,#WitnessesAndDocuments,#SaturdayMorning\\n#Deku,#WorstThingToYellOutBeforeSex,#justinbieberisoverparty,#WitnessesAndDocuments,#SaturdayMorning\\n#Deku,#WorstThingToYellOutBeforeSex,#justinbieberisoverparty,#WitnessesAndDocuments,#SaturdayMorning\\n#Deku,#WorstThingToYellOutBeforeSex,#justinbieberisoverparty,#WitnessesAndDocuments,#SaturdayMorning\\n#Deku,#WorstThingToYellOutBeforeSex,#justinbieberisoverparty,#WitnessesAndDocuments,#SaturdayMorning\\n#Deku,#WorstThingToYellOutBeforeSex,#justinbieberisoverparty,#WitnessesAndDocuments,#SaturdayMorning\\n#Deku,#WorstThingToYellOutBeforeSex,#justinbieberisoverparty,#WitnessesAndDocuments,#SaturdayMorning\\n#Deku,#WorstThingToYellOutBeforeSex,#justinbieberisoverparty,#WitnessesAndDocuments,#SaturdayMorning\\n#Deku,#WorstThingToYellOutBeforeSex,#justinbieberisoverparty,#WitnessesAndDocuments,#SaturdayMorning\\n#Deku,#WorstThingToYellOutBeforeSex,#justinbieberisoverparty,#WitnessesAndDocuments,#SaturdayMorning\\n#Deku,#WorstThingToYellOutBeforeSex,#justinbieberisoverparty,#WitnessesAndDocuments,#SaturdayMorning\\n#PowerSeason6,Tkachuk,#IDidntKnowMyKinkWas,Kassian,#kissagingerday\\n#OscarNoms,#ITrustBernie,Chen,Jongdae,Astros\\nVince Vaughn,#TuesdayThoughts,#PortfolioDay,#RefundWarren,#DemDebate\\nAaron Hernandez,#WednesdayWisdom,#NeverWarren,#CNNisTrash,Drew Pearson\\nAaron Hernandez,#WednesdayWisdom,#NeverWarren,#CNNisTrash,Drew Pearson\\nAaron Hernandez,#WednesdayWisdom,#NeverWarren,#CNNisTrash,Drew Pearson\\nAaron Hernandez,#WednesdayWisdom,#NeverWarren,#CNNisTrash,Drew Pearson\\nAaron Hernandez,#WednesdayWisdom,#NeverWarren,#CNNisTrash,Drew Pearson\\nAaron Hernandez,#WednesdayWisdom,#NeverWarren,#CNNisTrash,Drew Pearson\\nAaron Hernandez,#WednesdayWisdom,#NeverWarren,#CNNisTrash,Drew Pearson\\nAaron Hernandez,#WednesdayWisdom,#NeverWarren,#CNNisTrash,Drew Pearson\\nAaron Hernandez,#WednesdayWisdom,#NeverWarren,#CNNisTrash,Drew Pearson\\nAaron Hernandez,#WednesdayWisdom,#NeverWarren,#CNNisTrash,Drew Pearson\\nAaron Hernandez,#WednesdayWisdom,#NeverWarren,#CNNisTrash,Drew Pearson\\nAaron Hernandez,#WednesdayWisdom,#NeverWarren,#CNNisTrash,Drew Pearson\\nAaron Hernandez,#WednesdayWisdom,#NeverWarren,#CNNisTrash,Drew Pearson\\nAaron Hernandez,#WednesdayWisdom,#NeverWarren,#CNNisTrash,Drew Pearson\\nAaron Hernandez,#WednesdayWisdom,#NeverWarren,#CNNisTrash,Drew Pearson\\nAaron Hernandez,#WednesdayWisdom,#NeverWarren,#CNNisTrash,Drew Pearson\\nAaron Hernandez,#WednesdayWisdom,#NeverWarren,#CNNisTrash,Drew Pearson\\nAaron Hernandez,#WednesdayWisdom,#NeverWarren,#CNNisTrash,Drew Pearson\\nAaron Hernandez,#WednesdayWisdom,#NeverWarren,#CNNisTrash,Drew Pearson\\nAaron Hernandez,#WednesdayWisdom,#NeverWarren,#CNNisTrash,Drew Pearson\\nAaron Hernandez,#WednesdayWisdom,#NeverWarren,#CNNisTrash,Drew Pearson\\nAaron Hernandez,#WednesdayWisdom,#NeverWarren,#CNNisTrash,Drew Pearson\\n#SeduceSomeoneInFourWords,#AppreciateADragonDay,Byleth,Altuve,McSally\\nEminem,#AFallFromGrace,Ken Starr,#FridayFeeling,Kamikaze\\nNational Archives,Incredible Hulk,#WinnieThePoohDay,Aaron Carter,#WorstThingsToYellOutAfterSex\\nTariq,#PowerTV,#SundayThoughts,#DisgustMeIn4Words,#DumbThingsIDidInHighSchool\\nRevis,#MLKDay,#IEndorseBernie,#VirginiaRally,Happy MLK\\n#ILikeBernie,#TuesdayThoughts,#GOPCoverup,Jeter,#PastimesFromThe90s\\n#WednesdayWisdom,Fairway,Mr. Peanut,Terry Jones,#AdamSchiffROCKS\\n#ThursdayThoughts,#NationalPieDay,#DoomsdayClock,Monster House,Church of England\\nJoe Rogan,B.I.T.C.H,#dollypartonchallenge,#TheSexiestThingYouCanSay,#NationalComplimentDay\\n#AmericansWantWitnesses,#IGotKickedOutOfSpaceForce,Bangladesh,#PompeoMeltdown,#CoronaOutbreak\\n#SundayThoughts,Born Sinner,#WhiteMaleRage,Paula White,Kobe\\n#ILeftTheGOP,#KobeRIP,#iHeartBTS,Bolton,Letter to Nipsey\\n#girldad,Don Lemon,#TuesdayThoughts,#AddAWordRuinABook,Palestinians\\n#BellLetsTalk,Coach K,#WednesdayWisdom,Chris Doleman,#WeWantWitnesses\\n#SFFpit,#dershowitzlogic,#WorstWayToEndAnArgument,#MinajInMiami,#YangWillWin\\n#ImpeachmentTrialSham,Key Glock,#MissAmericana,Wayne,#FridayFeeling\\nRashida,Tlaib,#HappyBirthdayHarry,#BlackHistoryMonth,#BooHillary\\n#SuperBowl,Mini Mike,#7YearsWithJungkook,#GroundhogDay,#PalindromeDay\\n#MondayMotivation,G Eazy,#HalftimeShow2020,#IowaCaucuses,#TrumpIsAnIdiot\\n#WorldCancerDay,#SOTU,#TuesdayThoughts,Shadow,#MayorCheat\\n#NationalWeatherpersonsDay,#NGWSD,#WednesdayWisdom,#ImWithFred,#LOONA_SOWHAT\\nGlobal Entry,#impeached4life,#BernieWonIA,#MittRomneyAmericanHero,#ThursdayMotivation\\nVindman,James Woods,Jay Electronica,#YikesOutNow,Cherry Coke\\nOrson Bean,Chris Matthews,#XFL2020,#OrangeFace,Zoey 101\\n#NationalPizzaDay,Tasha,#Oscars,#SexSoLoudThat,#PowerTV\\n#QueenRadio,Qinni,Luke Perry,Equifax,#TrumpBudget\\n#WomenInScience,#TuesdayThoughts,Zaya,#BloombergIsRacist,Dixville Notch\\nMel Tucker,#WednesdayWisdom,Ashley Judd,#ToAlltheBoys2,Ohio 2\\n10 Movies to Know Me,#GalentinesDay,John Kelly,Prager U,#WeSupportYouHorikoshi\\nTink,Delta CEO,#ValentinesDay,McCabe,Artist 2.0\\nTahitian Treat,K Camp,Sam Donaldson,#StillVotingYang,Ryan Garcia\\n#DAYTONA500,#HowIFoundTheGSpot,Lis Smith,#SundayThoughts,Tony Fernandez\\nJohn Oliver,#RTXOn,#MondayMotivation,#PresidentsDay,#PresidentWarren\\n#LoseAnArgumentIn3Words,#NationalDrinkWineDay,#TuesdayThoughts,Boy Scouts,Kaitlin Bennett\\n#WednesdayWisdom,Assange,George Zimmerman,The Exorcist,After Hours\\n#LoveYourPetDay,#OnlyBernie,#PresidentElizabethWarren,David Ortiz,#PBPitch\\n#BTSComeback2020,#QuadenBayles,#TrumpIsARussianAsset,Troy Daniels,#RussianInterference\\nDemocratic Establishment,#NevadaCaucus,#AfterTheSexIsOver,#NationalMargaritaDay,Clint Eastwood\\n#MansplainingIn5Words,#SundayThoughts,B. Smith,Susan Sarandon,BTS GAME\\n#KobeFarewell,#WeLoveYouBTS,Cubans,Katherine Johnson,Castro\\nPretty Ricky,Hot Pockets,Tina Fey,Dick Pound,#FatTuesday\\nGabriel Fernandez,Ann Coulter,Red Vines,Happy Birthday Adam,#coronavirususa\\n#TrumpVirus,#PokemonDay,#loveisblindfinale,YouTube TV,#WWESSD\\nG Herbo,38% of Americans,Emotionally Scarred,#YtBring67MBack,#TrumpLiesAboutCoronavirus\\n#hoax,#LeapDay,#GetWellSoonYoongi,#BeforeWeHaveSexWeShould,Juvenile\\n#TrumpSlump,David Byrne,Chicago Freestyle,Selma,#DropOutBernie\\n#supertuesday2020,Artemis Fowl,#CoronaOutbreak,Valorant,Baby Pluto\\n#VoteForBernie,Favorite OST,#SuperTuesday,#Covid_19,Only Fans\\n#WednesdayWisdom,Shaun King,#BernieOrBust2020,Hervis Rogers,Warren Democrat\\n#loveisblindReunion,#PitMad,#WorldBookDay,Katy Perry,#ThankYouElizabeth\\nJhené,#EmployeeAppreciationDay,#FridayThoughts,Hilary Rosen,#CHILOMBO\\n#BeBest,Scott Steiner,#WorstWaysToInterruptSex,Erik Prince,Kenny Atkinson\\n#InternationalWomensDay,Kate McKinnon,#HappyBirthdayYoongi,#DaylightSavingsTime,#SaidDuringBoardGamesAndSex\\n#NationalNappingDay,#CartoonsThatShouldReturn,Sydow,#marketcrash,#COVID2019\\n#MAR10Day,#BernieSurge,AR-14,Chuck Norris,China Virus\\n#WednesdayWisdom,BTS WORLD DOMINATION,Gronk,#WriteinBernie,#CancelEverything\\n#CoronavirusPandemic,Don Lemon,Earth 2,Katie Porter,#ThursdayMotivation\\n#coronapocalypse,Jay Electronica,Boomer Remover,#panicbuying,#QuarantineAndChill\\n#TrumpIsTheWORSTPresidentEVER,#CoronaVirusUpdates,Matt Colvin,King Lear,40 Republicans\\n#StayTheFHome,#coronapocolypse,Alien Ant Farm,Donald Glover,Vegemite\\n#QuarantineLife,Keri Hilson,Diggs,Comet,#원호야사랑해\\n#ChineseVirus,#StPatricksDay,Randy Johnson,#YangWasRight,#HowYouKnowYouAreBroke\\nKathy,#WednesdayWisdom,Oprah,#californialockdown,#ReleaseTheButtholeCut\\n#QuarentineLife,Gal Gadot,Burr,Imagine,Catalina Wine Mixer\\nFeinstein,#CashAppFriday,#FridayThoughts,#CoronaCrisis,Peter Alexander\\nKenny Rogers,#KanyeWestIsOverParty,#QuaratineLife,Steve Martin,Omari Hardy\\nJamal Murray,#COVIDIOT,Childish Gambino,#SundayThoughts,#Option2Bernie\\n#NationalPuppyDay,Iron Man 3,#MondayMorning,#DemocratsAreDestroyingAmerica,Vin Scully\\n#NotDying4WallStreet,#CoronavirusLockdown,Kennedy Center,FISH TANK CLEANER,#StayAtHomeOrder\\nStuart Gordon,Prince Charles,Karl-Anthony Towns,Until Tomorrow,Jackson Browne\\n#OpeningDayAtHome,Congratulations America,Triscuits,#ThursdayMotivation,ARMS\\n#CoronaLockdown,Jeezy,Massie,42 Dugg,#KickIt1stwin\\n#StayAtHomeAndStaySafe,Joseph Lowery,#TrumpGenocide,#ICanNotDieBefore,Anuel\\nPPE to China,Nier,#SideEffectsOfQuarantineLife,#SundayMorning,#WhenCoronaVirusIsOver\\n#NoMoreDreamIsComing,#NationalDoctorsDay,#Coronavirustruth,Adonis,Quincy Jones\\n#TransDayOfVisibility,#TuesdayThoughts,Jack Black,RIP NIP,#QuarantineAMovie\\nApril Fools,Scott Storch,Herman Boone,Mannie,#CensusDay\\n#COVID19Pandemic,Dr. Desai,#WorldAutismAwarenessDay,#istandwiththepresident,Katt Williams\\nVenom,Rod Wave,Frank Ocean,Taylor Allderdice,Toosie Slide\\nZoey 101,Dear Canada,Shaun King,Michael Atkinson,#PandemicSexTapeTitles\\nTom Dempsey,#HollywoodJustFoundOut,Jackboy,#billboardcountthe10k,New Year's Day\\n#ARMYSelcaDay,Ezra Miller,#NationalStudentAthleteDay,Kim Possible,#MondayMorning\\n#NationalBeerDay,#WorldHealthDay,#TuesdayThoughts,Steak-umm,John Lewis\\nHappy Passover,#snapchatdown,#PandemicIn5Words,Dino Thunder,#WednesdayWisdom\\nFusion Reborn,#WhyIDidntReport,Bill O'Reilly,RIP Lonnie,Purple Reign\\n#NationalSiblingsDay,#AccurateTrump2020Slogans,Hart Island,Bound 2,#TrumpBurialPits\\n#NationalPetDay,Happy Birthday Brandon,Lilo,#WhyImNotVotingForJoe,4 Albums\\n#RipFortnite,Happy Easter,#SNLAtHome,Chris Wallace,#BloodOnHisHandsHannity\\n#FireTrump,#1DOnlineConcertStayAtHome,Kyle Larson,Chattanooga,#Stimulusdeposit\\n#PortfolioDay,Mama Coco,#TuesdayThoughts,#WrestlingTwitterAfterDark,#DictatorTrump\\nTrump,Browns,#WednesdayWisdom,Apple,Snapchat\\nPurple Reign,Dennis Miller,National Horny Day,Jhene,Keiji Fujiwara\\nFiona Apple,Dr. Phil,Richard Dawson,David Brooks,DaBaby\\nRosa Parks,Klay,#TogetherAtHome,Babyface,#FloridaMorons\\n#TheLastDance,Daisy Mae,#BANGBANGCON_D2,Piers Morgan,Neiman Marcus\\nHappy 420,#420day,Shake Shack,#TrumpCoronavirusTestFailure,#OilPrice\\nStanley Tucci,#RIPPrince,5 Perfect Movies,#tuesdayvibes,#JoeBidenTVShow\\nFrench Montana,#EarthDay,Anderson Cooper,#shawnmendesisoverparty,Big Poppa\\n#WorldBookDay,Draft Day,Ramadan Mubarak,Jesse Ventura,#kpopisoverparty\\nLysol,#TrumpIsNotADoctor,Bank of China,#disinfectant,#CongressPassUBI\\n#DropOutBiden,#KIMJONGUNDEAD,Alinity,Drita,Pauly D\\n#OddPlacesIHadSexIn,#LesbianVisibilityDay,#sundayvibes,#AlienDay,Brad Pitt\\n#MondayMotivation,Naughty Dog,Aaron Gordon,UFOs,FAKE PRESIDENT\\n#NationalSuperheroDay,#tuesdayvibes,Minnie,#AliensExist,Dustin Colquitt\\nAmash,K.I.D.S,#WednesdayWisdom,#InternationalDanceDay,#SM_이태용_지켜\\nChris Hayes,debby ryan,#heautifulharries,Brian Williams,Andy Dalton\\nHappy Birthday Gigi,#IBelieveBiden,Alex Jones,Jill Scott,#Order66\\nMurder Hornets,#IAmGettingSoTiredOf,Zoe Baird,Wale,#worldnakedgardeningday\\nNintendo 64,Killmonger,#GoJoe,#sundayvibes,Christine O'Donnell\\n#MayThe4thBeWithYou,Don Lemon,junmyeon,Don Shula,#TeacherAppreciationWeek\\nX Æ A-12,#TeacherAppreciationDay,Slime & B,#AhmaudArbery,Kurt Loder\\nAdele,#NationalNursesDay,#WhenTrumpIsOutOfOffice,Marsha,#becomingnetflix\\nEarl Thomas,Jason Whitlock,Praying Mantis,#AhmaudAubrey,#SeanReed\\nKing Bach,#TrumpDepression,6ix9ine,Kehlani,Jesus is the Christ\\nAndre Harrell,#DonaldTrumpIsTheTypeOfGuy,Little Richard,HDMI 1,#SecretSky\\n#ObamaGate,SCAD,#TrumpsJealousOfObama,Betty Wright,Madres\\nJerry Stiller,Joji,#Chimesweeps,#multisareoverparty,Dave Grohl\\nMary Mary,Stormi,#Etika30,#tuesdayvibes,Rand Paul\\n#kpopstansareoverparty,#3moremonths,#SubpoenaObama,Boosie,#wednesdaymorning\\nBurr,#RIPAmerica,Blake Snell,Safaera,Scarface\\n#TrumpHasNoPlan,#AvatarTheLastAirbender,Bob Watson,Space Force,Katara\\n#ObamaCommencement2020,#lastnormalphoto,Sorry Robert,State Department,#ArmedForcesDay\\n#WatermelonSugar,Kevin Gates,#ObamaWasBetterAtEverything,#NCT127_BeyondLIVE,Eric Trump\\nEddie Haskell,Shad,#InternationalMuseumDay,Karl Rove,#Hydroxychloroquine\\n#PresidentPlump,#TMobileTuesdays,Pier 1,jojo siwa,Tison\\nObama Runtz,#NationalRescueDogDay,Midland,Sears Tower,Paul Pierce\\nLana,Klobuchar,Westgate,WE LOVE YOU LIAM,#TrumpDeathToll95K\\n#YouAintBlack,Puppy Chow,#JoeBidenIsARacist,#noacf,Quavo\\nEid Mubarak,#RIPHanaKimura,WE LOVE YOU HARRY,#IfIWorkedAtDunderMifflin,Sessions\\n#WeAreSorryDoja,#memorialdayweekend2020,Lake of the Ozarks,Marty Byrde,#TheMatch\\n#MakeSolo2Happen,WE LOVE YOU 1D,Uncut Gems,Jimmy Cobb,#Cyberpunk2077Sweepstakes\\nJayda,Shaun King,#jimmyfallonisoverparty,#AmyCooper,#GeorgeFloyd\\nKathy Griffin,#AllLivesMatter,#WednesdayWisdom,#LaunchAmerica,John Boyega\\n#minneapolisriots,Target,#NationalHamburgerDay,Chris Smoove,#BlackLivesMater\\nVan Jones,#donaldisoverparty,#RAISETHEDEGREE,#FridayThoughts,THUGS\\n#BLACK_LIVES_MATTER,#riots2020,Amish,Killer Mike,#TrumpResignNow\\n#protests2020,Jake Paul,Anonymous,Bratz,John Cusack\\nVirgil,#BunkerBoy,#PRIDE2020,Tom Cotton,Van Nuys\\n#BlackOutTuesday,#TrumpDictatorship,2 Virgils,#WendysIsOverParty,#BlackLivesMattter\\nDominicans,Drew Brees,Trina,Juan Ramirez,#WhiteLivesMatter\\nVidor,Norvell,#BLUEFALL,#PitMad,#EXPOSEANTIFA\\n#babygate,#PoliceBrutalityPandemic,He's 75,Third Amendment,Lady G\\n#BlackLivesMattters,Barron Trump,ATTACK AND DETHRONE GOD,#DDay,#LadyGraham\\n#STFUHillary,#ByeIvanka,Colin Powell,Ben Carson,Elmer Fudd\\n#WorldOceansDay,Dan Bilzerian,#NationalBestFriendsDay,Shrek 2,Goth IHOP\\nRobin Williams,Cantu,B Simone,#BillandTedDay,Chester Bennington\\nGone With the Wind,#PlayStation5,Leaving Las Vegas,Teena Marie,Song of the South\\nAmerican Taliban,Cognac Queen,Ray Ciccarelli,#PS5Reveal,Kit Kat\\nDave Chappelle,#JusticeforRobertFuller,Lil Baby,Pulse,#UglyPresident\\nPat Tillman,#SexGoneWrongIn5Words,Spongebob,West Point,#RayshardBrooks\\n#AllBirthdaysMatter,#ObamaDayJune14th,#BangBangConTheLive,#FlagDay,Newt\\n#JusticeForToyin,Gundy,#MondayMotivation,T-Mobile,Rob Manfred\\nShake Shack,#tuesdayvibes,Lecrae,#madisonbeerisoverparty,#TupacShakur\\nAunt Jemima,J Cole,McMuffin,#GOPCowards,#StarTrekUnitedGives\\nBeethoven,#ThursdayThoughts,RIP X,Nestor,#RIPTacoBell\\nAmerica,Republican,Teyana,Juneteenth,ansel elgort\\nBarr,City Girls,Joe Rogan,Lenin,Grant\\nFather's Day,Pizza Hut,#tiktokteens,#TrumpRallyFail,Shane\\nMixer,NASCAR,Ja Rule,#MondayMotivation,#PRETTYMUCHISOVERPARTY\\nMel Gibson,#BreonnaTalyor,#TMobileTuesdays,Andrew Jackson,Bill Simmons\\nParler,Tom Joyner,Flynn,6lack,Meek\\n#ThursdayThoughts,#11YearsWithOutMichaelJackson,Splash Mountain,Guy Phillips,#JBalvinIsOverParty\\n6lack,Obamacare,Durk,Huey,#FridayThoughts\\n#TraitorTrump,Milton Glaser,Shane Dawson,#ByeIvanka,Real Genius\\nSacha Baron Cohen,The Villages,#HappyBirthdayMarkiplier,Low IQ,Shane Dawson\\n#MondayMotivation,St. Louis,Clyde,Iran,Dilbert\\n#tuesdayvibes,Rand Paul,Tati,Carl Reiner,Ian Desmond\\nJada,Bobby Bonilla,#MailedIt,Canada,Dan Patrick\\nNairo,#HeWentToJared,Vanilla Ice,Maya Moore,#AllLivesMatters\\nPop Smoke,Redskins,Hamilton,Karol G,Five Guys\\n#AllCountriesMatter,Happy 4th of July,Happy 4th,4th of July,Independence Day\\nKanye,#sundayvibes,Summer Taylor,First Lady,Kayne\\nEnnio Morricone,#TrumpVirus,Mahomes,NASCAR,Charlie Daniels\\n#StudentBan,#BLACKOUTDAY2020,Don Lemon,DeSean Jackson,SATs\\nStephen Jackson,Mary Kay Letourneau,#ripjeffbezos,Birthday Party,#dogecoin\\nNaya Rivera,Bill Nye,#socialistteeth,Goya,Notre Dame\\nGoya,Wayfair,Summer Walker,#SupremeLoser,#PulteDropsBitcoin\\nJill Scott,#UFC251,#entanglement,Disney World,Romney\\nMarlo,Betsy DeVos,#sundayvibes,#NobodyArtistClub,#PardonMeTrump\\nRedskins,Chuck Woolery,Kelly Preston,Naya,#MondayMotivation\\n#TMobileTuesdays,MySpace,#ByeDonJr,Cindy Adams,Bari Weiss\\nNick Cannon,T-Pain,Snoop,Ivanka,Hatch Act\\nKemp,Dan Snyder,#TrumpFailedAmerica,Birkin,Quavo\\nTamar,#NationalTattooDay,#WorldEmojiDay,Drake,Gronk\\nJohn Lewis,#MTVHottest,Voting Rights Act,#PortlandKidnappings,Marco Rubio\\nAdult Swim,#NationalIceCreamDay,Chris Wallace,Hank Hill,#entanglements\\nKanye,Kasich,Mark Cuban,#MondayMotivation,Deutsche Bank\\nTucker,#tuesdayvibes,Liz Cheney,Scott Pilgrim,Korra\\n#10YearsOfOneDirection,Meek,Jeff Bezos,#NationalHotDogDay,Mookie\\n#OpeningDay,#10YearsOfOneDirection,#personwomanmancameratv,Demi Lovato,Trump's America\\nFlo Milli,#NationalTequilaDay,Paw Patrol,#TheWorstEndingEver,#Folklore\\nSinclair,Lake Lanier,Ray Park,#DontDoThisAfterSex,grimes\\nUsher,#sundayvibes,George Carlin,Jon Voight,Brett Favre\\n#GamingConfession,#MondayMotivation,Marlins,Tom Cotton,Nadler\\n#ExaBFF,Last Chance U,Barr,Fenty Skin,jungkook\\nJoe Kelly,Kodak,NYPD,Germany,Paul Rudd\\nMahomes,Herman Cain,#NobodyLikesTrump,John Lewis,Lakers\\n#BlackIsKing,Eid Mubarak,Jim Jordan,Brandy,#SeduceMeIn5Words\\n#NationalGirlfriendDay,TikTok,Moesha,#SpiderManDay,Tidal\\nWilford Brimley,Walter Reed,Raptors,#BillClintonIsAPedo,#sundayvibes\\n#ARSD,Astroworld,#WomenAgainstTrump,#MondayMotivation,#ReactionTimeTest\\nAxios,#TMobileTuesdays,Beirut,Lebanon,Swan\\n#NoComradesUnder1k,Cori Bush,My Headphones,Melo,Oprah\\n#RevealYourAgeWithoutNumbers,Zelda,The NRA,Thighland,High Fidelity\\nCardi,Kylie,Rod Wave,Phil Collins,#WAPMusicVideo\\n#InternationalCatDay,Obamacare,Sturgis,#VoteOutRacism,Dame\\nSocial Security,New Zealand,Luka,#sundayvibes,#ThingsICanNoLongerDo\\n#WeWantToPlay,NCAA,#IveHadEnoughOf,#MondayMotivation,Ben Shapiro\\nKuzma,Lakeith,Ben Shapiro,#tuesdayvibes,WWII\\n#nastywoman,Shaun King,#wednesdaymorning,kyla,Atalanta\\nNewsweek,#LeftHandersDay,USPS,jikook,Drake Bell\\nDrake,Dolph,Annabelle,Barca,#FridayFeeling\\nGenghis Khan,Kissanime,NYPD,#BidenHarrisLandslide2020,#ByeHannity\\nAlex Smith,#wrongtrump,Mark Meadows,Snowden,#SundayMorning\\nDeath Valley,#iHeartDynamite,#MondayMotivation,Barron,Ben 10\\nTatis,Michelle Obama,#19thAmendment,Susan B. Anthony,#iHeartDay2Contest\\nGoodyear,#WorldPhotographyDay,Trey Songz,#WAPParty,Laura Loomer\\n#NationalRadioDay,President Obama,Thom Brennaman,Bannon,Drunk History\\nTory,#FreeCodeFridayContest,#FridayFeeling,#everythingmeansnothing,#KingsDisease\\n#AlyssaMilanoIsALie,#DCFanDome,McSally,TOH SPOILERS,Leafy\\nKobe,#Indy500,Brandy,Batman,#SundayMorning\\nJacob Blake,jacob blake,#dejoyhearing,#RNC2020,#blacklivesmatter\\njacob blake,#rnc2020,#blacklivesmatter,falwell,#justiceforjacobblake\\nNational Dog Day,Messi,Bella Thorne,Bruins,Landon Clifford\\nKaty Perry,National Dog Day,Call of Duty Cold War,Tucker Carlson,Bruins\\njacob blake,#rnc2020,#blacklivesmatter,falwell,#justiceforjacobblake\\nShaun King,#RIPChadBoseman,#UFCVegas8,Cliff Robinson,#TrumpIsNotWell\\n#TrumpRiots,Patriot Prayer,Celtics,Lakers,#noahbeckisoverparty\\n#TrumpTerrorism,#MondayMotivation,Jamal Murray,Monica,#LovecraftCountry\\nzendaya,#TrumpStroke,Sister Sister,#ImVotingForJoe,#pokemonmastersex\\nCarole Baskin,Kirk Cousins,Kennedy,Ferg,John Boyega\\n#PitMad,Mario,Mexican Pizza,Harden,Steve Nash\\nJustin Bieber,Big Sean,Labor Day,#BeyDay,#WeRespectVets\\nDegrassi,Breitbart,Lake Travis,#AEWAllOut,Nikki\\n#PValley,Charlie Sheen,Cohen,Steve Jobs,James Woods\\nMac Miller,Labor Day,taemin,Hobby Lobby,Chucks\\nOdell,#StarTrekDay,Travis Scott,Series S,#TuesdayThoughts\\n#WednesdayWisdom,Rey Kenobi,Nobel Peace Prize,#earthquake,Lebron\\n#WorldSuicidePreventionDay,Chiefs,#NFLKickoff,#CancelNetflix,Texans\\n#NeverForget,#AllBuildingsMatter,Pledge of Allegiance,Serena,Texans\\nToots,#NationalVideoGamesDay,Chris Evans,Tulsi,Clemson\\nCompton,John Wall,Westbrook,#BlueLivesMatter,Browns\\nVenus,George Floyd,#MondayMotivation,Lancaster,Joe Rogan\\n#AppleEvent,#HispanicHeritageMonth,Gostkowski,Scientific American,Allen Robinson\\nKanye,Holocaust,#TrumpLied200KDied,#HerdMentality,Big Ten\\niOS 14,Barr,Chris Rock,Thiago,#ConstitutionDay\\nVan Morrison,#RoshHashanah,Brent,Tyler Childers,Giannis\\nSCOTUS,Supreme Court,#ios14homescreen,Bronny,#BatmanDay\\nNars,#ios14homescreen,Woodley,Bad Bunny,Diamonds Dancing\\nBethesda,Zendaya,#MondayMotivation,21st of September,#WearAMask\\n#NationalVoterRegistrationDay,#TMobileTuesdays,#firstdayoffall,Vanessa Bryant,Snapchat\\nBagg,#BiVisibilityDay,Wells Fargo,#WednesdayWisdom,Cindy McCain\\nNier,Biden 2020,NWTS,Zlatan,#JBChanceHoly\\nTory,Joji,Murray,#nationaldaughtersday,Charles Barkley\\nJill Stein,Reds,Dennis Quaid,Tay K,Proud Boys\\n#UFC253,#FartingCrickets,The Rock,Armenia,Lebron\\nProject Veritas,Salt Bae,Ravens,#MondayMotivation,Ivanka\\n#NationalCoffeeDay,#Debates2020,Ann Coulter,Tulsi,Jesus is Lord\\nProud Boys,#InternationalPodcastDay,Yellow,#TrumpIsARacist,Braves\\nChrissy,Halloween,#October1st,Kyrie,Nicki\\nRick Moranis,Morgan Freeman,Walter Reed,COVID,#FreeCodeFridayContest\\n#NationalBoyfriendDay,Tyga,Chris Christie,Bob Gibson,#MeanGirlsDay\\n#ProudBoys,Harden,Signing,Sharpie,EXIF\\n#WorldTeachersDay,#sameartist,Space Force,#TrumpCovid19,#LovecraftCountry\\n#NationalCoachesDay,Stanton,Mussolini,Hurricane Delta,Egyptians\\n#VPDebate,Ken Bone,Haskins,#LakeShow,CRISPR\\nPete,#InternationalLesbianDay,#ChickenTrump,Rambo,Louise Glück\\n#EndSARS,Yelp,Brady,#fridaymorning,#FridayVibes\\n#WorldMentalHealthDay,Danny Green,#MapOfTheSoulOne,Lebron,Taliban\\n#NationalComingOutDay,Bill Burr,#MapOfTheSoulOne_D2,Jack White,Pinkerton\\n#IndigenousPeoplesDay,Columbus,Lakers,Kobe,Joe Morgan\\n#AppleEvent,Chargers,Braves,Dodgers,iPhone 12\\n#ThanksPlannedParenthood,#BoycottNBC,Dodgers,Ice Cube,#WednesdayWisdom\\n#NBCBlackout,Iowa,#FireChuckTodd,#CrookedJoeBiden,#ByeTiffany\\nMr. Rogers,Babylon Bee,#PulteHelpsPeople,#VoteForHer,#BlameTrump\\nEdmund,Milky Way,#TheWayISeeIt,Will Smith,Seager\\nKirstie Alley,Lopez,Loma,Jim Carrey,Astros\\nBolivia,#MondayMotivation,Dodgers,Toobin,#ThankYouDoc\\nNigeria,#EndSARS,Pat Robertson,Kasich,DMCA\\nQuibi,Rudy,#PronounsDay,Borat,Chris Pratt\\nTony Bobulinski,Annalise,Iran,#MakeADogsDay,Turkey\\nLuke Combs,Birkin,ariana,Saweetie,McRib\\nJerry Jeff Walker,#VoteEarlyDay,Khabib,Rutgers,Lou Dobbs\\nDodgers,Adele,Steelers,Nuns,Jansen\\nLil Pump,George Lopez,Jared Kushner,Cardinals,Tim Apple\\n#VoteThemOut,Kavanaugh,SCOTUS,Supreme Court,#WalterWallaceJr\\nOmaha,Dodgers,#XSXFridgeSweeps,Lil Baby,frank ocean\\n#NationalCatDay,Perdue,Ivy Park,Jack Nicklaus,Wine\\n#TheMandalorian,Happy Halloween,#POSITIONS,McRib,Bobby Orr\\nHalloween,#VoteBlueToEndTheNightmare,Sean Connery,Bond,Michigan\\nChristmas,Rod Wave,Tank,TAYLOR IS FREE,Mook\\nFauci,Lady Gaga,#VoteResponsibly,#ARSD,#MondayMotivation\\n#ElectionDay,STAY IN LINE,Kanye,Tracy Chapman,Lil Pump\\nOregon,#CountEveryVote,Bernie,Nevada,Ben Shapiro\\nJ Cole,#ElectionResults2020,Biden - 264,Nevada,Stacey Abrams\\nStacey Abrams,King Von,#GetWellSoonYoongi,#bidenharis2020,System of a Down\\nQuebec,Lincoln Project,Mark Meadows,#BidenHarris2020,hobi\\nFour Seasons Total Landscaping,Notre Dame,Dave Chappelle,Alex Trebek,Jim Carrey\\nPfizer,Eva Longoria,Toph,taemin,Brady\\nXbox,Major League,Pompeo,Veterans Day,#BidenWonDay\\nKodak,Rigby,Zoey 101,Veterans Day,#VeteransDay\\n\""
      ]
     },
     "execution_count": 34,
     "metadata": {},
     "output_type": "execute_result"
    }
   ],
   "source": [
    "df.to_csv('file_name.csv')\n"
   ]
  },
  {
   "cell_type": "code",
   "execution_count": null,
   "metadata": {},
   "outputs": [],
   "source": []
  }
 ],
 "metadata": {
  "kernelspec": {
   "display_name": "Python 3",
   "language": "python",
   "name": "python3"
  },
  "language_info": {
   "codemirror_mode": {
    "name": "ipython",
    "version": 3
   },
   "file_extension": ".py",
   "mimetype": "text/x-python",
   "name": "python",
   "nbconvert_exporter": "python",
   "pygments_lexer": "ipython3",
   "version": "3.7.6"
  }
 },
 "nbformat": 4,
 "nbformat_minor": 4
}
