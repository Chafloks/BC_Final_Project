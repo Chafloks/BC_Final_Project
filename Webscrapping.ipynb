{
 "cells": [
  {
   "cell_type": "code",
   "execution_count": 1,
   "metadata": {},
   "outputs": [],
   "source": [
    "from selenium import webdriver\n",
    "from selenium.webdriver.common.keys import Keys\n",
    "from bs4 import BeautifulSoup as bs\n",
    "import time\n",
    "import pandas as pd\n",
    "import requests\n",
    "import selenium"
   ]
  },
  {
   "cell_type": "code",
   "execution_count": 2,
   "metadata": {},
   "outputs": [
    {
     "output_type": "error",
     "ename": "WebDriverException",
     "evalue": "Message: 'C:\\Program Files (x86)\\chromedriver.exe' executable needs to be in PATH. Please see https://sites.google.com/a/chromium.org/chromedriver/home\n",
     "traceback": [
      "\u001b[0;31m---------------------------------------------------------------------------\u001b[0m",
      "\u001b[0;31mFileNotFoundError\u001b[0m                         Traceback (most recent call last)",
      "\u001b[0;32m/opt/anaconda3/lib/python3.7/site-packages/selenium/webdriver/common/service.py\u001b[0m in \u001b[0;36mstart\u001b[0;34m(self)\u001b[0m\n\u001b[1;32m     75\u001b[0m                                             \u001b[0mstderr\u001b[0m\u001b[0;34m=\u001b[0m\u001b[0mself\u001b[0m\u001b[0;34m.\u001b[0m\u001b[0mlog_file\u001b[0m\u001b[0;34m,\u001b[0m\u001b[0;34m\u001b[0m\u001b[0;34m\u001b[0m\u001b[0m\n\u001b[0;32m---> 76\u001b[0;31m                                             stdin=PIPE)\n\u001b[0m\u001b[1;32m     77\u001b[0m         \u001b[0;32mexcept\u001b[0m \u001b[0mTypeError\u001b[0m\u001b[0;34m:\u001b[0m\u001b[0;34m\u001b[0m\u001b[0;34m\u001b[0m\u001b[0m\n",
      "\u001b[0;32m/opt/anaconda3/lib/python3.7/subprocess.py\u001b[0m in \u001b[0;36m__init__\u001b[0;34m(self, args, bufsize, executable, stdin, stdout, stderr, preexec_fn, close_fds, shell, cwd, env, universal_newlines, startupinfo, creationflags, restore_signals, start_new_session, pass_fds, encoding, errors, text)\u001b[0m\n\u001b[1;32m    799\u001b[0m                                 \u001b[0merrread\u001b[0m\u001b[0;34m,\u001b[0m \u001b[0merrwrite\u001b[0m\u001b[0;34m,\u001b[0m\u001b[0;34m\u001b[0m\u001b[0;34m\u001b[0m\u001b[0m\n\u001b[0;32m--> 800\u001b[0;31m                                 restore_signals, start_new_session)\n\u001b[0m\u001b[1;32m    801\u001b[0m         \u001b[0;32mexcept\u001b[0m\u001b[0;34m:\u001b[0m\u001b[0;34m\u001b[0m\u001b[0;34m\u001b[0m\u001b[0m\n",
      "\u001b[0;32m/opt/anaconda3/lib/python3.7/subprocess.py\u001b[0m in \u001b[0;36m_execute_child\u001b[0;34m(self, args, executable, preexec_fn, close_fds, pass_fds, cwd, env, startupinfo, creationflags, shell, p2cread, p2cwrite, c2pread, c2pwrite, errread, errwrite, restore_signals, start_new_session)\u001b[0m\n\u001b[1;32m   1550\u001b[0m                             \u001b[0merr_msg\u001b[0m \u001b[0;34m+=\u001b[0m \u001b[0;34m': '\u001b[0m \u001b[0;34m+\u001b[0m \u001b[0mrepr\u001b[0m\u001b[0;34m(\u001b[0m\u001b[0merr_filename\u001b[0m\u001b[0;34m)\u001b[0m\u001b[0;34m\u001b[0m\u001b[0;34m\u001b[0m\u001b[0m\n\u001b[0;32m-> 1551\u001b[0;31m                     \u001b[0;32mraise\u001b[0m \u001b[0mchild_exception_type\u001b[0m\u001b[0;34m(\u001b[0m\u001b[0merrno_num\u001b[0m\u001b[0;34m,\u001b[0m \u001b[0merr_msg\u001b[0m\u001b[0;34m,\u001b[0m \u001b[0merr_filename\u001b[0m\u001b[0;34m)\u001b[0m\u001b[0;34m\u001b[0m\u001b[0;34m\u001b[0m\u001b[0m\n\u001b[0m\u001b[1;32m   1552\u001b[0m                 \u001b[0;32mraise\u001b[0m \u001b[0mchild_exception_type\u001b[0m\u001b[0;34m(\u001b[0m\u001b[0merr_msg\u001b[0m\u001b[0;34m)\u001b[0m\u001b[0;34m\u001b[0m\u001b[0;34m\u001b[0m\u001b[0m\n",
      "\u001b[0;31mFileNotFoundError\u001b[0m: [Errno 2] No such file or directory: 'C:\\\\Program Files (x86)\\\\chromedriver.exe': 'C:\\\\Program Files (x86)\\\\chromedriver.exe'",
      "\nDuring handling of the above exception, another exception occurred:\n",
      "\u001b[0;31mWebDriverException\u001b[0m                        Traceback (most recent call last)",
      "\u001b[0;32m<ipython-input-2-71b571746368>\u001b[0m in \u001b[0;36m<module>\u001b[0;34m\u001b[0m\n\u001b[1;32m      1\u001b[0m \u001b[0mpath\u001b[0m \u001b[0;34m=\u001b[0m \u001b[0;34m\"C:\\Program Files (x86)\\chromedriver.exe\"\u001b[0m\u001b[0;34m\u001b[0m\u001b[0;34m\u001b[0m\u001b[0m\n\u001b[0;32m----> 2\u001b[0;31m \u001b[0mdriver\u001b[0m \u001b[0;34m=\u001b[0m \u001b[0mwebdriver\u001b[0m\u001b[0;34m.\u001b[0m\u001b[0mChrome\u001b[0m\u001b[0;34m(\u001b[0m\u001b[0mpath\u001b[0m\u001b[0;34m)\u001b[0m\u001b[0;34m\u001b[0m\u001b[0;34m\u001b[0m\u001b[0m\n\u001b[0m\u001b[1;32m      3\u001b[0m \u001b[0mdriver\u001b[0m\u001b[0;34m.\u001b[0m\u001b[0mget\u001b[0m\u001b[0;34m(\u001b[0m\u001b[0;34m\"https://us.trend-calendar.com/trend/2020-03-01.html\"\u001b[0m\u001b[0;34m)\u001b[0m\u001b[0;34m\u001b[0m\u001b[0;34m\u001b[0m\u001b[0m\n",
      "\u001b[0;32m/opt/anaconda3/lib/python3.7/site-packages/selenium/webdriver/chrome/webdriver.py\u001b[0m in \u001b[0;36m__init__\u001b[0;34m(self, executable_path, port, options, service_args, desired_capabilities, service_log_path, chrome_options, keep_alive)\u001b[0m\n\u001b[1;32m     71\u001b[0m             \u001b[0mservice_args\u001b[0m\u001b[0;34m=\u001b[0m\u001b[0mservice_args\u001b[0m\u001b[0;34m,\u001b[0m\u001b[0;34m\u001b[0m\u001b[0;34m\u001b[0m\u001b[0m\n\u001b[1;32m     72\u001b[0m             log_path=service_log_path)\n\u001b[0;32m---> 73\u001b[0;31m         \u001b[0mself\u001b[0m\u001b[0;34m.\u001b[0m\u001b[0mservice\u001b[0m\u001b[0;34m.\u001b[0m\u001b[0mstart\u001b[0m\u001b[0;34m(\u001b[0m\u001b[0;34m)\u001b[0m\u001b[0;34m\u001b[0m\u001b[0;34m\u001b[0m\u001b[0m\n\u001b[0m\u001b[1;32m     74\u001b[0m \u001b[0;34m\u001b[0m\u001b[0m\n\u001b[1;32m     75\u001b[0m         \u001b[0;32mtry\u001b[0m\u001b[0;34m:\u001b[0m\u001b[0;34m\u001b[0m\u001b[0;34m\u001b[0m\u001b[0m\n",
      "\u001b[0;32m/opt/anaconda3/lib/python3.7/site-packages/selenium/webdriver/common/service.py\u001b[0m in \u001b[0;36mstart\u001b[0;34m(self)\u001b[0m\n\u001b[1;32m     81\u001b[0m                 raise WebDriverException(\n\u001b[1;32m     82\u001b[0m                     \"'%s' executable needs to be in PATH. %s\" % (\n\u001b[0;32m---> 83\u001b[0;31m                         os.path.basename(self.path), self.start_error_message)\n\u001b[0m\u001b[1;32m     84\u001b[0m                 )\n\u001b[1;32m     85\u001b[0m             \u001b[0;32melif\u001b[0m \u001b[0merr\u001b[0m\u001b[0;34m.\u001b[0m\u001b[0merrno\u001b[0m \u001b[0;34m==\u001b[0m \u001b[0merrno\u001b[0m\u001b[0;34m.\u001b[0m\u001b[0mEACCES\u001b[0m\u001b[0;34m:\u001b[0m\u001b[0;34m\u001b[0m\u001b[0;34m\u001b[0m\u001b[0m\n",
      "\u001b[0;31mWebDriverException\u001b[0m: Message: 'C:\\Program Files (x86)\\chromedriver.exe' executable needs to be in PATH. Please see https://sites.google.com/a/chromium.org/chromedriver/home\n"
     ]
    }
   ],
   "source": [
    "path = \"C:\\Program Files (x86)\\chromedriver.exe\"\n",
    "driver = webdriver.Chrome(path)"
   ]
  },
  {
   "cell_type": "code",
   "execution_count": 3,
   "metadata": {},
   "outputs": [],
   "source": [
    "driver.get(\"https://us.trend-calendar.com/trend/2020-03-01.html\")"
   ]
  },
  {
   "cell_type": "code",
   "execution_count": 4,
   "metadata": {},
   "outputs": [],
   "source": [
    "trend_dates = {}\n",
    "pageable = True\n",
    "counter = 31\n",
    "while pageable == True:\n",
    "    time.sleep(0.5)\n",
    "    contents = driver.find_element_by_class_name(\"ranking\")\n",
    "    contents_html = contents.get_attribute(\"innerHTML\")\n",
    "    soup = bs(contents_html)\n",
    "    anchors = soup.find_all(\"a\")\n",
    "    trends = []\n",
    "    header = driver.find_element_by_class_name(\"entry-title\")\n",
    "    date = header.text.split(\"on \",1)[1]\n",
    "    for a in anchors[:3]:\n",
    "        url = a[\"href\"]\n",
    "        text = a.text\n",
    "        d = {\"URL\": url, \"trends\": text}\n",
    "        trends.append(d)\n",
    "    trend_dates[date] = trends\n",
    "    try:\n",
    "        submit_button = driver.find_elements_by_class_name(\"yesterdaytomorrow\")[1]\n",
    "        pageable = True\n",
    "        submit_button.click()\n",
    "        counter -= 1\n",
    "        if counter == 0:\n",
    "            pageable = False\n",
    "    except:\n",
    "        pageable = False"
   ]
  },
  {
   "cell_type": "code",
   "execution_count": 5,
   "metadata": {},
   "outputs": [
    {
     "data": {
      "text/plain": [
       "{'1st March, 2020': [{'URL': 'http://twitter.com/search?q=%23TrumpSlump%20lang:en%20since%3A2020-03-01_00:00:00_EST%20until%3A2020-03-02_00:00:00_EST&src=typd',\n",
       "   'trends': '#TrumpSlump'},\n",
       "  {'URL': 'http://twitter.com/search?q=%22David+Byrne%22%20lang:en%20since%3A2020-03-01_00:00:00_EST%20until%3A2020-03-02_00:00:00_EST&src=typd',\n",
       "   'trends': 'David Byrne'},\n",
       "  {'URL': 'http://twitter.com/search?q=%22Chicago+Freestyle%22%20lang:en%20since%3A2020-03-01_00:00:00_EST%20until%3A2020-03-02_00:00:00_EST&src=typd',\n",
       "   'trends': 'Chicago Freestyle'}],\n",
       " '2nd March, 2020': [{'URL': 'http://twitter.com/search?q=%23supertuesday2020%20lang:en%20since%3A2020-03-02_00:00:00_EST%20until%3A2020-03-03_00:00:00_EST&src=typd',\n",
       "   'trends': '#supertuesday2020'},\n",
       "  {'URL': 'http://twitter.com/search?q=%22Artemis+Fowl%22%20lang:en%20since%3A2020-03-02_00:00:00_EST%20until%3A2020-03-03_00:00:00_EST&src=typd',\n",
       "   'trends': 'Artemis Fowl'},\n",
       "  {'URL': 'http://twitter.com/search?q=%23CoronaOutbreak%20lang:en%20since%3A2020-03-02_00:00:00_EST%20until%3A2020-03-03_00:00:00_EST&src=typd',\n",
       "   'trends': '#CoronaOutbreak'}],\n",
       " '3rd March, 2020': [{'URL': 'http://twitter.com/search?q=%23VoteForBernie%20lang:en%20since%3A2020-03-03_00:00:00_EST%20until%3A2020-03-04_00:00:00_EST&src=typd',\n",
       "   'trends': '#VoteForBernie'},\n",
       "  {'URL': 'http://twitter.com/search?q=%22Favorite+OST%22%20lang:en%20since%3A2020-03-03_00:00:00_EST%20until%3A2020-03-04_00:00:00_EST&src=typd',\n",
       "   'trends': 'Favorite OST'},\n",
       "  {'URL': 'http://twitter.com/search?q=%23SuperTuesday%20lang:en%20since%3A2020-03-03_00:00:00_EST%20until%3A2020-03-04_00:00:00_EST&src=typd',\n",
       "   'trends': '#SuperTuesday'}],\n",
       " '4th March, 2020': [{'URL': 'http://twitter.com/search?q=%23WednesdayWisdom%20lang:en%20since%3A2020-03-04_00:00:00_EST%20until%3A2020-03-05_00:00:00_EST&src=typd',\n",
       "   'trends': '#WednesdayWisdom'},\n",
       "  {'URL': 'http://twitter.com/search?q=%22Shaun+King%22%20lang:en%20since%3A2020-03-04_00:00:00_EST%20until%3A2020-03-05_00:00:00_EST&src=typd',\n",
       "   'trends': 'Shaun King'},\n",
       "  {'URL': 'http://twitter.com/search?q=%23BernieOrBust2020%20lang:en%20since%3A2020-03-04_00:00:00_EST%20until%3A2020-03-05_00:00:00_EST&src=typd',\n",
       "   'trends': '#BernieOrBust2020'}],\n",
       " '5th March, 2020': [{'URL': 'http://twitter.com/search?q=%23loveisblindReunion%20lang:en%20since%3A2020-03-05_00:00:00_EST%20until%3A2020-03-06_00:00:00_EST&src=typd',\n",
       "   'trends': '#loveisblindReunion'},\n",
       "  {'URL': 'http://twitter.com/search?q=%23PitMad%20lang:en%20since%3A2020-03-05_00:00:00_EST%20until%3A2020-03-06_00:00:00_EST&src=typd',\n",
       "   'trends': '#PitMad'},\n",
       "  {'URL': 'http://twitter.com/search?q=%23WorldBookDay%20lang:en%20since%3A2020-03-05_00:00:00_EST%20until%3A2020-03-06_00:00:00_EST&src=typd',\n",
       "   'trends': '#WorldBookDay'}],\n",
       " '6th March, 2020': [{'URL': 'http://twitter.com/search?q=Jhen%C3%A9%20lang:en%20since%3A2020-03-06_00:00:00_EST%20until%3A2020-03-07_00:00:00_EST&src=typd',\n",
       "   'trends': 'Jhené'},\n",
       "  {'URL': 'http://twitter.com/search?q=%23EmployeeAppreciationDay%20lang:en%20since%3A2020-03-06_00:00:00_EST%20until%3A2020-03-07_00:00:00_EST&src=typd',\n",
       "   'trends': '#EmployeeAppreciationDay'},\n",
       "  {'URL': 'http://twitter.com/search?q=%23FridayThoughts%20lang:en%20since%3A2020-03-06_00:00:00_EST%20until%3A2020-03-07_00:00:00_EST&src=typd',\n",
       "   'trends': '#FridayThoughts'}],\n",
       " '7th March, 2020': [{'URL': 'http://twitter.com/search?q=%23BeBest%20lang:en%20since%3A2020-03-07_00:00:00_EST%20until%3A2020-03-08_00:00:00_EST&src=typd',\n",
       "   'trends': '#BeBest'},\n",
       "  {'URL': 'http://twitter.com/search?q=%22Scott+Steiner%22%20lang:en%20since%3A2020-03-07_00:00:00_EST%20until%3A2020-03-08_00:00:00_EST&src=typd',\n",
       "   'trends': 'Scott Steiner'},\n",
       "  {'URL': 'http://twitter.com/search?q=%23WorstWaysToInterruptSex%20lang:en%20since%3A2020-03-07_00:00:00_EST%20until%3A2020-03-08_00:00:00_EST&src=typd',\n",
       "   'trends': '#WorstWaysToInterruptSex'}],\n",
       " '8th March, 2020': [{'URL': 'http://twitter.com/search?q=%23InternationalWomensDay%20lang:en%20since%3A2020-03-08_00:00:00_EST%20until%3A2020-03-09_00:00:00_EST&src=typd',\n",
       "   'trends': '#InternationalWomensDay'},\n",
       "  {'URL': 'http://twitter.com/search?q=%22Kate+McKinnon%22%20lang:en%20since%3A2020-03-08_00:00:00_EST%20until%3A2020-03-09_00:00:00_EST&src=typd',\n",
       "   'trends': 'Kate McKinnon'},\n",
       "  {'URL': 'http://twitter.com/search?q=%23HappyBirthdayYoongi%20lang:en%20since%3A2020-03-08_00:00:00_EST%20until%3A2020-03-09_00:00:00_EST&src=typd',\n",
       "   'trends': '#HappyBirthdayYoongi'}],\n",
       " '9th March, 2020': [{'URL': 'http://twitter.com/search?q=%23NationalNappingDay%20lang:en%20since%3A2020-03-09_00:00:00_EST%20until%3A2020-03-10_00:00:00_EST&src=typd',\n",
       "   'trends': '#NationalNappingDay'},\n",
       "  {'URL': 'http://twitter.com/search?q=%23CartoonsThatShouldReturn%20lang:en%20since%3A2020-03-09_00:00:00_EST%20until%3A2020-03-10_00:00:00_EST&src=typd',\n",
       "   'trends': '#CartoonsThatShouldReturn'},\n",
       "  {'URL': 'http://twitter.com/search?q=Sydow%20lang:en%20since%3A2020-03-09_00:00:00_EST%20until%3A2020-03-10_00:00:00_EST&src=typd',\n",
       "   'trends': 'Sydow'}],\n",
       " '10th March, 2020': [{'URL': 'http://twitter.com/search?q=%23MAR10Day%20lang:en%20since%3A2020-03-10_00:00:00_EST%20until%3A2020-03-11_00:00:00_EST&src=typd',\n",
       "   'trends': '#MAR10Day'},\n",
       "  {'URL': 'http://twitter.com/search?q=%23BernieSurge%20lang:en%20since%3A2020-03-10_00:00:00_EST%20until%3A2020-03-11_00:00:00_EST&src=typd',\n",
       "   'trends': '#BernieSurge'},\n",
       "  {'URL': 'http://twitter.com/search?q=AR-14%20lang:en%20since%3A2020-03-10_00:00:00_EST%20until%3A2020-03-11_00:00:00_EST&src=typd',\n",
       "   'trends': 'AR-14'}],\n",
       " '11th March, 2020': [{'URL': 'http://twitter.com/search?q=%23WednesdayWisdom%20lang:en%20since%3A2020-03-11_00:00:00_EST%20until%3A2020-03-12_00:00:00_EST&src=typd',\n",
       "   'trends': '#WednesdayWisdom'},\n",
       "  {'URL': 'http://twitter.com/search?q=%22BTS+WORLD+DOMINATION%22%20lang:en%20since%3A2020-03-11_00:00:00_EST%20until%3A2020-03-12_00:00:00_EST&src=typd',\n",
       "   'trends': 'BTS WORLD DOMINATION'},\n",
       "  {'URL': 'http://twitter.com/search?q=Gronk%20lang:en%20since%3A2020-03-11_00:00:00_EST%20until%3A2020-03-12_00:00:00_EST&src=typd',\n",
       "   'trends': 'Gronk'}],\n",
       " '12th March, 2020': [{'URL': 'http://twitter.com/search?q=%23CoronavirusPandemic%20lang:en%20since%3A2020-03-12_00:00:00_EST%20until%3A2020-03-13_00:00:00_EST&src=typd',\n",
       "   'trends': '#CoronavirusPandemic'},\n",
       "  {'URL': 'http://twitter.com/search?q=%22Don+Lemon%22%20lang:en%20since%3A2020-03-12_00:00:00_EST%20until%3A2020-03-13_00:00:00_EST&src=typd',\n",
       "   'trends': 'Don Lemon'},\n",
       "  {'URL': 'http://twitter.com/search?q=%22Earth+2%22%20lang:en%20since%3A2020-03-12_00:00:00_EST%20until%3A2020-03-13_00:00:00_EST&src=typd',\n",
       "   'trends': 'Earth 2'}],\n",
       " '13th March, 2020': [{'URL': 'http://twitter.com/search?q=%23coronapocalypse%20lang:en%20since%3A2020-03-13_00:00:00_EST%20until%3A2020-03-14_00:00:00_EST&src=typd',\n",
       "   'trends': '#coronapocalypse'},\n",
       "  {'URL': 'http://twitter.com/search?q=%22Jay+Electronica%22%20lang:en%20since%3A2020-03-13_00:00:00_EST%20until%3A2020-03-14_00:00:00_EST&src=typd',\n",
       "   'trends': 'Jay Electronica'},\n",
       "  {'URL': 'http://twitter.com/search?q=%22Boomer+Remover%22%20lang:en%20since%3A2020-03-13_00:00:00_EST%20until%3A2020-03-14_00:00:00_EST&src=typd',\n",
       "   'trends': 'Boomer Remover'}],\n",
       " '14th March, 2020': [{'URL': 'http://twitter.com/search?q=%23TrumpIsTheWORSTPresidentEVER%20lang:en%20since%3A2020-03-14_00:00:00_EST%20until%3A2020-03-15_00:00:00_EST&src=typd',\n",
       "   'trends': '#TrumpIsTheWORSTPresidentEVER'},\n",
       "  {'URL': 'http://twitter.com/search?q=%23CoronaVirusUpdates%20lang:en%20since%3A2020-03-14_00:00:00_EST%20until%3A2020-03-15_00:00:00_EST&src=typd',\n",
       "   'trends': '#CoronaVirusUpdates'},\n",
       "  {'URL': 'http://twitter.com/search?q=%22Matt+Colvin%22%20lang:en%20since%3A2020-03-14_00:00:00_EST%20until%3A2020-03-15_00:00:00_EST&src=typd',\n",
       "   'trends': 'Matt Colvin'}],\n",
       " '15th March, 2020': [{'URL': 'http://twitter.com/search?q=%23StayTheFHome%20lang:en%20since%3A2020-03-15_00:00:00_EST%20until%3A2020-03-16_00:00:00_EST&src=typd',\n",
       "   'trends': '#StayTheFHome'},\n",
       "  {'URL': 'http://twitter.com/search?q=%23coronapocolypse%20lang:en%20since%3A2020-03-15_00:00:00_EST%20until%3A2020-03-16_00:00:00_EST&src=typd',\n",
       "   'trends': '#coronapocolypse'},\n",
       "  {'URL': 'http://twitter.com/search?q=%22Alien+Ant+Farm%22%20lang:en%20since%3A2020-03-15_00:00:00_EST%20until%3A2020-03-16_00:00:00_EST&src=typd',\n",
       "   'trends': 'Alien Ant Farm'}],\n",
       " '16th March, 2020': [{'URL': 'http://twitter.com/search?q=%23QuarantineLife%20lang:en%20since%3A2020-03-16_00:00:00_EST%20until%3A2020-03-17_00:00:00_EST&src=typd',\n",
       "   'trends': '#QuarantineLife'},\n",
       "  {'URL': 'http://twitter.com/search?q=%22Keri+Hilson%22%20lang:en%20since%3A2020-03-16_00:00:00_EST%20until%3A2020-03-17_00:00:00_EST&src=typd',\n",
       "   'trends': 'Keri Hilson'},\n",
       "  {'URL': 'http://twitter.com/search?q=Diggs%20lang:en%20since%3A2020-03-16_00:00:00_EST%20until%3A2020-03-17_00:00:00_EST&src=typd',\n",
       "   'trends': 'Diggs'}],\n",
       " '17th March, 2020': [{'URL': 'http://twitter.com/search?q=%23ChineseVirus%20lang:en%20since%3A2020-03-17_00:00:00_EST%20until%3A2020-03-18_00:00:00_EST&src=typd',\n",
       "   'trends': '#ChineseVirus'},\n",
       "  {'URL': 'http://twitter.com/search?q=%23StPatricksDay%20lang:en%20since%3A2020-03-17_00:00:00_EST%20until%3A2020-03-18_00:00:00_EST&src=typd',\n",
       "   'trends': '#StPatricksDay'},\n",
       "  {'URL': 'http://twitter.com/search?q=%22Randy+Johnson%22%20lang:en%20since%3A2020-03-17_00:00:00_EST%20until%3A2020-03-18_00:00:00_EST&src=typd',\n",
       "   'trends': 'Randy Johnson'}],\n",
       " '18th March, 2020': [{'URL': 'http://twitter.com/search?q=Kathy%20lang:en%20since%3A2020-03-18_00:00:00_EST%20until%3A2020-03-19_00:00:00_EST&src=typd',\n",
       "   'trends': 'Kathy'},\n",
       "  {'URL': 'http://twitter.com/search?q=%23WednesdayWisdom%20lang:en%20since%3A2020-03-18_00:00:00_EST%20until%3A2020-03-19_00:00:00_EST&src=typd',\n",
       "   'trends': '#WednesdayWisdom'},\n",
       "  {'URL': 'http://twitter.com/search?q=Oprah%20lang:en%20since%3A2020-03-18_00:00:00_EST%20until%3A2020-03-19_00:00:00_EST&src=typd',\n",
       "   'trends': 'Oprah'}],\n",
       " '19th March, 2020': [{'URL': 'http://twitter.com/search?q=%23QuarentineLife%20lang:en%20since%3A2020-03-19_00:00:00_EST%20until%3A2020-03-20_00:00:00_EST&src=typd',\n",
       "   'trends': '#QuarentineLife'},\n",
       "  {'URL': 'http://twitter.com/search?q=%22Gal+Gadot%22%20lang:en%20since%3A2020-03-19_00:00:00_EST%20until%3A2020-03-20_00:00:00_EST&src=typd',\n",
       "   'trends': 'Gal Gadot'},\n",
       "  {'URL': 'http://twitter.com/search?q=Burr%20lang:en%20since%3A2020-03-19_00:00:00_EST%20until%3A2020-03-20_00:00:00_EST&src=typd',\n",
       "   'trends': 'Burr'}],\n",
       " '20th March, 2020': [{'URL': 'http://twitter.com/search?q=Feinstein%20lang:en%20since%3A2020-03-20_00:00:00_EST%20until%3A2020-03-21_00:00:00_EST&src=typd',\n",
       "   'trends': 'Feinstein'},\n",
       "  {'URL': 'http://twitter.com/search?q=%23CashAppFriday%20lang:en%20since%3A2020-03-20_00:00:00_EST%20until%3A2020-03-21_00:00:00_EST&src=typd',\n",
       "   'trends': '#CashAppFriday'},\n",
       "  {'URL': 'http://twitter.com/search?q=%23FridayThoughts%20lang:en%20since%3A2020-03-20_00:00:00_EST%20until%3A2020-03-21_00:00:00_EST&src=typd',\n",
       "   'trends': '#FridayThoughts'}],\n",
       " '21st March, 2020': [{'URL': 'http://twitter.com/search?q=%22Kenny+Rogers%22%20lang:en%20since%3A2020-03-21_00:00:00_EST%20until%3A2020-03-22_00:00:00_EST&src=typd',\n",
       "   'trends': 'Kenny Rogers'},\n",
       "  {'URL': 'http://twitter.com/search?q=%23KanyeWestIsOverParty%20lang:en%20since%3A2020-03-21_00:00:00_EST%20until%3A2020-03-22_00:00:00_EST&src=typd',\n",
       "   'trends': '#KanyeWestIsOverParty'},\n",
       "  {'URL': 'http://twitter.com/search?q=%23QuaratineLife%20lang:en%20since%3A2020-03-21_00:00:00_EST%20until%3A2020-03-22_00:00:00_EST&src=typd',\n",
       "   'trends': '#QuaratineLife'}],\n",
       " '22nd March, 2020': [{'URL': 'http://twitter.com/search?q=%22Jamal+Murray%22%20lang:en%20since%3A2020-03-22_00:00:00_EST%20until%3A2020-03-23_00:00:00_EST&src=typd',\n",
       "   'trends': 'Jamal Murray'},\n",
       "  {'URL': 'http://twitter.com/search?q=%23COVIDIOT%20lang:en%20since%3A2020-03-22_00:00:00_EST%20until%3A2020-03-23_00:00:00_EST&src=typd',\n",
       "   'trends': '#COVIDIOT'},\n",
       "  {'URL': 'http://twitter.com/search?q=%22Childish+Gambino%22%20lang:en%20since%3A2020-03-22_00:00:00_EST%20until%3A2020-03-23_00:00:00_EST&src=typd',\n",
       "   'trends': 'Childish Gambino'}],\n",
       " '23rd March, 2020': [{'URL': 'http://twitter.com/search?q=%23NationalPuppyDay%20lang:en%20since%3A2020-03-23_00:00:00_EST%20until%3A2020-03-24_00:00:00_EST&src=typd',\n",
       "   'trends': '#NationalPuppyDay'},\n",
       "  {'URL': 'http://twitter.com/search?q=%22Iron+Man+3%22%20lang:en%20since%3A2020-03-23_00:00:00_EST%20until%3A2020-03-24_00:00:00_EST&src=typd',\n",
       "   'trends': 'Iron Man 3'},\n",
       "  {'URL': 'http://twitter.com/search?q=%23MondayMorning%20lang:en%20since%3A2020-03-23_00:00:00_EST%20until%3A2020-03-24_00:00:00_EST&src=typd',\n",
       "   'trends': '#MondayMorning'}],\n",
       " '24th March, 2020': [{'URL': 'http://twitter.com/search?q=%23NotDying4WallStreet%20lang:en%20since%3A2020-03-24_00:00:00_EST%20until%3A2020-03-25_00:00:00_EST&src=typd',\n",
       "   'trends': '#NotDying4WallStreet'},\n",
       "  {'URL': 'http://twitter.com/search?q=%23CoronavirusLockdown%20lang:en%20since%3A2020-03-24_00:00:00_EST%20until%3A2020-03-25_00:00:00_EST&src=typd',\n",
       "   'trends': '#CoronavirusLockdown'},\n",
       "  {'URL': 'http://twitter.com/search?q=%22Kennedy+Center%22%20lang:en%20since%3A2020-03-24_00:00:00_EST%20until%3A2020-03-25_00:00:00_EST&src=typd',\n",
       "   'trends': 'Kennedy Center'}],\n",
       " '25th March, 2020': [{'URL': 'http://twitter.com/search?q=%22Stuart+Gordon%22%20lang:en%20since%3A2020-03-25_00:00:00_EST%20until%3A2020-03-26_00:00:00_EST&src=typd',\n",
       "   'trends': 'Stuart Gordon'},\n",
       "  {'URL': 'http://twitter.com/search?q=%22Prince+Charles%22%20lang:en%20since%3A2020-03-25_00:00:00_EST%20until%3A2020-03-26_00:00:00_EST&src=typd',\n",
       "   'trends': 'Prince Charles'},\n",
       "  {'URL': 'http://twitter.com/search?q=%22Karl-Anthony+Towns%22%20lang:en%20since%3A2020-03-25_00:00:00_EST%20until%3A2020-03-26_00:00:00_EST&src=typd',\n",
       "   'trends': 'Karl-Anthony Towns'}],\n",
       " '26th March, 2020': [{'URL': 'http://twitter.com/search?q=%23OpeningDayAtHome%20lang:en%20since%3A2020-03-26_00:00:00_EST%20until%3A2020-03-27_00:00:00_EST&src=typd',\n",
       "   'trends': '#OpeningDayAtHome'},\n",
       "  {'URL': 'http://twitter.com/search?q=%22Congratulations+America%22%20lang:en%20since%3A2020-03-26_00:00:00_EST%20until%3A2020-03-27_00:00:00_EST&src=typd',\n",
       "   'trends': 'Congratulations America'},\n",
       "  {'URL': 'http://twitter.com/search?q=Triscuits%20lang:en%20since%3A2020-03-26_00:00:00_EST%20until%3A2020-03-27_00:00:00_EST&src=typd',\n",
       "   'trends': 'Triscuits'}],\n",
       " '27th March, 2020': [{'URL': 'http://twitter.com/search?q=%23CoronaLockdown%20lang:en%20since%3A2020-03-27_00:00:00_EST%20until%3A2020-03-28_00:00:00_EST&src=typd',\n",
       "   'trends': '#CoronaLockdown'},\n",
       "  {'URL': 'http://twitter.com/search?q=Jeezy%20lang:en%20since%3A2020-03-27_00:00:00_EST%20until%3A2020-03-28_00:00:00_EST&src=typd',\n",
       "   'trends': 'Jeezy'},\n",
       "  {'URL': 'http://twitter.com/search?q=Massie%20lang:en%20since%3A2020-03-27_00:00:00_EST%20until%3A2020-03-28_00:00:00_EST&src=typd',\n",
       "   'trends': 'Massie'}],\n",
       " '28th March, 2020': [{'URL': 'http://twitter.com/search?q=%23StayAtHomeAndStaySafe%20lang:en%20since%3A2020-03-28_00:00:00_EST%20until%3A2020-03-29_00:00:00_EST&src=typd',\n",
       "   'trends': '#StayAtHomeAndStaySafe'},\n",
       "  {'URL': 'http://twitter.com/search?q=%22Joseph+Lowery%22%20lang:en%20since%3A2020-03-28_00:00:00_EST%20until%3A2020-03-29_00:00:00_EST&src=typd',\n",
       "   'trends': 'Joseph Lowery'},\n",
       "  {'URL': 'http://twitter.com/search?q=%23TrumpGenocide%20lang:en%20since%3A2020-03-28_00:00:00_EST%20until%3A2020-03-29_00:00:00_EST&src=typd',\n",
       "   'trends': '#TrumpGenocide'}],\n",
       " '29th March, 2020': [{'URL': 'http://twitter.com/search?q=%22PPE+to+China%22%20lang:en%20since%3A2020-03-29_00:00:00_EST%20until%3A2020-03-30_00:00:00_EST&src=typd',\n",
       "   'trends': 'PPE to China'},\n",
       "  {'URL': 'http://twitter.com/search?q=Nier%20lang:en%20since%3A2020-03-29_00:00:00_EST%20until%3A2020-03-30_00:00:00_EST&src=typd',\n",
       "   'trends': 'Nier'},\n",
       "  {'URL': 'http://twitter.com/search?q=%23SideEffectsOfQuarantineLife%20lang:en%20since%3A2020-03-29_00:00:00_EST%20until%3A2020-03-30_00:00:00_EST&src=typd',\n",
       "   'trends': '#SideEffectsOfQuarantineLife'}],\n",
       " '30th March, 2020': [{'URL': 'http://twitter.com/search?q=%23NoMoreDreamIsComing%20lang:en%20since%3A2020-03-30_00:00:00_EST%20until%3A2020-03-31_00:00:00_EST&src=typd',\n",
       "   'trends': '#NoMoreDreamIsComing'},\n",
       "  {'URL': 'http://twitter.com/search?q=%23NationalDoctorsDay%20lang:en%20since%3A2020-03-30_00:00:00_EST%20until%3A2020-03-31_00:00:00_EST&src=typd',\n",
       "   'trends': '#NationalDoctorsDay'},\n",
       "  {'URL': 'http://twitter.com/search?q=%23Coronavirustruth%20lang:en%20since%3A2020-03-30_00:00:00_EST%20until%3A2020-03-31_00:00:00_EST&src=typd',\n",
       "   'trends': '#Coronavirustruth'}],\n",
       " '31st March, 2020': [{'URL': 'http://twitter.com/search?q=%23TransDayOfVisibility%20lang:en%20since%3A2020-03-31_00:00:00_EST%20until%3A2020-04-01_00:00:00_EST&src=typd',\n",
       "   'trends': '#TransDayOfVisibility'},\n",
       "  {'URL': 'http://twitter.com/search?q=%23TuesdayThoughts%20lang:en%20since%3A2020-03-31_00:00:00_EST%20until%3A2020-04-01_00:00:00_EST&src=typd',\n",
       "   'trends': '#TuesdayThoughts'},\n",
       "  {'URL': 'http://twitter.com/search?q=%22Jack+Black%22%20lang:en%20since%3A2020-03-31_00:00:00_EST%20until%3A2020-04-01_00:00:00_EST&src=typd',\n",
       "   'trends': 'Jack Black'}]}"
      ]
     },
     "execution_count": 5,
     "metadata": {},
     "output_type": "execute_result"
    }
   ],
   "source": [
    "trend_dates"
   ]
  },
  {
   "cell_type": "code",
   "execution_count": null,
   "metadata": {},
   "outputs": [],
   "source": [
    "driver.quit()"
   ]
  },
  {
   "cell_type": "code",
   "execution_count": 6,
   "metadata": {},
   "outputs": [],
   "source": [
    "driver.get(\"https://www.twitter.com/login\")\n",
    "time.sleep(1)\n",
    "usernameInput = driver.find_element_by_name(\"session[username_or_email]\")\n",
    "passwordInput = driver.find_element_by_name(\"session[password]\")\n",
    "usernameInput.send_keys(\"chuck45630256\")\n",
    "passwordInput.send_keys(\"Longbow1@\")\n",
    "passwordInput.send_keys(Keys.ENTER)\n",
    "time.sleep(5)"
   ]
  },
  {
   "cell_type": "code",
   "execution_count": 7,
   "metadata": {},
   "outputs": [],
   "source": [
    "March = []\n",
    "for date in trend_dates:\n",
    "    for trend in trend_dates[date]:\n",
    "        driver.get(trend['URL'])\n",
    "        time.sleep(1.5)\n",
    "        counter = 3\n",
    "        text_tweets = []\n",
    "        while counter != 0:\n",
    "            try:\n",
    "                time.sleep(2)\n",
    "                contents = driver.find_element_by_class_name(\"css-1dbjc4n\")\n",
    "                contents_html = contents.get_attribute(\"innerHTML\")\n",
    "                soup = bs(contents_html)\n",
    "                tweet_html = soup.find_all(\"div\", {\"data-testid\":\"tweet\"})\n",
    "                for tweet in tweet_html:\n",
    "                    text = tweet.find(\"div\", class_ = \"css-901oao r-jwli3a r-1qd0xha r-a023e6 r-16dba41 r-ad9z0x r-bcqeeo r-bnwqim r-qvutc0\").get_text()\n",
    "                    text_tweets.append(text)\n",
    "                driver.execute_script(\"window.scrollTo(0, document.body.scrollHeight);\")\n",
    "                time.sleep(4)\n",
    "                counter -= 1\n",
    "            except:\n",
    "                driver.execute_script(\"window.scrollTo(0, document.body.scrollHeight);\")\n",
    "                time.sleep(4)\n",
    "                counter -= 1\n",
    "        March.append(text_tweets)\n",
    "        time.sleep(1)"
   ]
  },
  {
   "cell_type": "code",
   "execution_count": null,
   "metadata": {},
   "outputs": [],
   "source": [
    "file1 = open(\"March tweets text.txt\",encoding=\"utf8\")"
   ]
  },
  {
   "cell_type": "code",
   "execution_count": null,
   "metadata": {},
   "outputs": [],
   "source": [
    "data = file1.readlines()"
   ]
  },
  {
   "cell_type": "code",
   "execution_count": null,
   "metadata": {},
   "outputs": [],
   "source": [
    "len(data)"
   ]
  },
  {
   "cell_type": "code",
   "execution_count": null,
   "metadata": {},
   "outputs": [],
   "source": [
    "chunks = [data[x:x+5] for x in range(0, len(data), 5)]"
   ]
  },
  {
   "cell_type": "code",
   "execution_count": null,
   "metadata": {},
   "outputs": [],
   "source": [
    "type(chunks)"
   ]
  },
  {
   "cell_type": "code",
   "execution_count": 8,
   "metadata": {},
   "outputs": [],
   "source": [
    "with open('March tweets text.txt', 'w', encoding=\"utf-8\") as filehandle:\n",
    "    for listitem in March:\n",
    "        filehandle.write('%s\\n' % listitem)"
   ]
  },
  {
   "cell_type": "code",
   "execution_count": 9,
   "metadata": {},
   "outputs": [
    {
     "data": {
      "text/plain": [
       "93"
      ]
     },
     "execution_count": 9,
     "metadata": {},
     "output_type": "execute_result"
    }
   ],
   "source": [
    "len(March)"
   ]
  },
  {
   "cell_type": "code",
   "execution_count": 17,
   "metadata": {},
   "outputs": [
    {
     "data": {
      "text/plain": [
       "47"
      ]
     },
     "execution_count": 17,
     "metadata": {},
     "output_type": "execute_result"
    }
   ],
   "source": [
    "len(March[9])"
   ]
  },
  {
   "cell_type": "code",
   "execution_count": null,
   "metadata": {},
   "outputs": [],
   "source": []
  }
 ],
 "metadata": {
  "kernelspec": {
   "display_name": "Python 3",
   "language": "python",
   "name": "python3"
  },
  "language_info": {
   "codemirror_mode": {
    "name": "ipython",
    "version": 3
   },
   "file_extension": ".py",
   "mimetype": "text/x-python",
   "name": "python",
   "nbconvert_exporter": "python",
   "pygments_lexer": "ipython3",
   "version": "3.7.6-final"
  }
 },
 "nbformat": 4,
 "nbformat_minor": 4
}