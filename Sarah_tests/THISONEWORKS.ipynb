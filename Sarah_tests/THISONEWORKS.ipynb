{
 "cells": [
  {
   "cell_type": "code",
   "execution_count": 2,
   "metadata": {},
   "outputs": [],
   "source": [
    "import json\n",
    "import time\n",
    "import pandas as pd\n",
    "from google.cloud import language_v1\n",
    "content = []\n",
    "magnitude = []\n",
    "score = []\n",
    "client = language_v1.LanguageServiceClient()\n",
    "\n",
    "# Available types: PLAIN_TEXT, HTML\n",
    "type_ = language_v1.Document.Type.PLAIN_TEXT\n",
    "\n",
    "def getSentiment(text_content):\n",
    "    language = \"en\"\n",
    "    document = {\"content\": text_content, \"type_\": type_, \"language\": language}\n",
    "\n",
    "    # Available values: NONE, UTF8, UTF16, UTF32\n",
    "    encoding_type = language_v1.EncodingType.UTF8\n",
    "\n",
    "    response = client.analyze_sentiment(request = {'document': document, 'encoding_type': encoding_type})\n",
    "    #print(response)\n",
    "    return response\n",
    "    \n",
    "\n",
    "# print(response)\n",
    "# # Get overall sentiment of the input document\n",
    "# print(u\"Document sentiment score: {}\".format(response.document_sentiment.score))\n",
    "# print(\n",
    "#     u\"Document sentiment magnitude: {}\".format(\n",
    "#         response.document_sentiment.magnitude\n",
    "#     )\n",
    "# )\n",
    "# # Get sentiment for all sentences in the document\n",
    "# for sentence in response.sentences:\n",
    "#     print(u\"Sentence text: {}\".format(sentence.text.content))\n",
    "#     print(u\"Sentence sentiment score: {}\".format(sentence.sentiment.score))\n",
    "#     print(u\"Sentence sentiment magnitude: {}\".format(sentence.sentiment.magnitude))\n",
    "\n",
    "# # Get the language of the text, which will be the same as\n",
    "# # the language specified in the request or, if not specified,\n",
    "# # the automatically-detected language.\n",
    "# print(u\"Language of the text: {}\".format(response.language))\n"
   ]
  },
  {
   "cell_type": "code",
   "execution_count": 1,
   "metadata": {},
   "outputs": [
    {
     "data": {
      "text/plain": [
       "93"
      ]
     },
     "execution_count": 1,
     "metadata": {},
     "output_type": "execute_result"
    }
   ],
   "source": [
    "from march import data\n",
    "len(data)"
   ]
  },
  {
   "cell_type": "code",
   "execution_count": null,
   "metadata": {},
   "outputs": [],
   "source": [
    "len(data[0])"
   ]
  },
  {
   "cell_type": "code",
   "execution_count": null,
   "metadata": {},
   "outputs": [],
   "source": [
    "data"
   ]
  },
  {
   "cell_type": "code",
   "execution_count": null,
   "metadata": {},
   "outputs": [],
   "source": [
    "trend1 = []"
   ]
  },
  {
   "cell_type": "code",
   "execution_count": null,
   "metadata": {},
   "outputs": [],
   "source": [
    "for topic in data:\n",
    "    for tweet in topic[:10]:\n",
    "        print(getSentiment(str(tweet)))\n",
    "        print()"
   ]
  },
  {
   "cell_type": "code",
   "execution_count": null,
   "metadata": {},
   "outputs": [],
   "source": [
    "type(sample_list[0][0])"
   ]
  },
  {
   "cell_type": "code",
   "execution_count": null,
   "metadata": {},
   "outputs": [],
   "source": []
  },
  {
   "cell_type": "code",
   "execution_count": null,
   "metadata": {},
   "outputs": [],
   "source": [
    "type(tren"
   ]
  },
  {
   "cell_type": "code",
   "execution_count": null,
   "metadata": {},
   "outputs": [],
   "source": []
  },
  {
   "cell_type": "code",
   "execution_count": null,
   "metadata": {},
   "outputs": [],
   "source": [
    "type(trend_1[0])"
   ]
  },
  {
   "cell_type": "code",
   "execution_count": null,
   "metadata": {},
   "outputs": [],
   "source": [
    "trend_1"
   ]
  },
  {
   "cell_type": "code",
   "execution_count": null,
   "metadata": {},
   "outputs": [],
   "source": [
    "with open('test.txt', 'w') as f:\n",
    "    f.write(json.dumps((str(trend_1))))"
   ]
  },
  {
   "cell_type": "code",
   "execution_count": null,
   "metadata": {},
   "outputs": [],
   "source": []
  },
  {
   "cell_type": "code",
   "execution_count": 12,
   "metadata": {},
   "outputs": [],
   "source": [
    "df = pd.DataFrame()\n",
    "score_l = []\n",
    "mag_l = []\n",
    "text_l = []\n",
    "\n",
    "trend_1 = []\n",
    "sample_list =[]\n",
    "counter = 0\n",
    "for topic in data[87:90]:\n",
    "    for tweet in topic:\n",
    "        result = getSentiment(str(tweet))#.__class__.to_json(getSentiment(str(tweet)))\n",
    "        #result_dict = json.loads(result_json)\n",
    "        #sample_list.append([result_dict['documentSentiment']['magnitude'], result_dict['documentSentiment']['score']])\n",
    "       # print(result_dict['documentSentiment']['magnitude'])\n",
    "        score_l.append(result.document_sentiment.score)\n",
    "        mag_l.append(result.document_sentiment.magnitude)\n",
    "        sent_l = []\n",
    "        for sent in result.sentences:\n",
    "            sent_l.append(sent.text.content)\n",
    "        text_l.append(sent_l)\n",
    "df = pd.DataFrame({\"Score\":score_l,\"Magnitude\":mag_l,\"Text\":text_l})\n",
    "        #print('============')\n",
    "#     counter += 1\n",
    "#     with open('results_test' + str(counter) + '.csv', 'w', encoding=\"utf-8\") as filehandle:\n",
    "#         for listitem in March:\n",
    "#             filehandle.write('%s\\n' % listitem)\n",
    "    #time.sleep(60)\n",
    "    \n",
    "        #abc.append(getSentiment(str(tweet)))\n",
    "        #content.append(u\"Sentence text: {}\".format(sentence.text.content))\n",
    "        #score.append(u\"Sentence sentiment score: {}\".format(sentence.sentiment.score))\n",
    "        #magnitude.append(u\"Sentence sentiment magnitude: {}\".format(sentence.sentiment.magnitude))\n",
    "        #print(tweet)\n",
    "    #sample_list.append(abc)"
   ]
  },
  {
   "cell_type": "code",
   "execution_count": 11,
   "metadata": {},
   "outputs": [],
   "source": [
    "mar30 = df \n",
    "mar30.to_csv(\"mar30.csv\")"
   ]
  },
  {
   "cell_type": "code",
   "execution_count": 13,
   "metadata": {},
   "outputs": [
    {
     "data": {
      "text/html": [
       "<div>\n",
       "<style scoped>\n",
       "    .dataframe tbody tr th:only-of-type {\n",
       "        vertical-align: middle;\n",
       "    }\n",
       "\n",
       "    .dataframe tbody tr th {\n",
       "        vertical-align: top;\n",
       "    }\n",
       "\n",
       "    .dataframe thead th {\n",
       "        text-align: right;\n",
       "    }\n",
       "</style>\n",
       "<table border=\"1\" class=\"dataframe\">\n",
       "  <thead>\n",
       "    <tr style=\"text-align: right;\">\n",
       "      <th></th>\n",
       "      <th>Score</th>\n",
       "      <th>Magnitude</th>\n",
       "      <th>Text</th>\n",
       "    </tr>\n",
       "  </thead>\n",
       "  <tbody>\n",
       "    <tr>\n",
       "      <th>0</th>\n",
       "      <td>0.2</td>\n",
       "      <td>0.5</td>\n",
       "      <td>[only legends will remember this intro, #NoMor...</td>\n",
       "    </tr>\n",
       "    <tr>\n",
       "      <th>1</th>\n",
       "      <td>0.5</td>\n",
       "      <td>0.5</td>\n",
       "      <td>[Guys go support this new group I heard their ...</td>\n",
       "    </tr>\n",
       "    <tr>\n",
       "      <th>2</th>\n",
       "      <td>-0.2</td>\n",
       "      <td>1.5</td>\n",
       "      <td>[#NoMoreDreamIsComing \\n#DebutWithBTS\\n#BTSONH...</td>\n",
       "    </tr>\n",
       "    <tr>\n",
       "      <th>3</th>\n",
       "      <td>-0.1</td>\n",
       "      <td>0.4</td>\n",
       "      <td>[I don’t know why but he’s really speaking to ...</td>\n",
       "    </tr>\n",
       "    <tr>\n",
       "      <th>4</th>\n",
       "      <td>-0.1</td>\n",
       "      <td>0.2</td>\n",
       "      <td>[Are you the BTS boys?, You guys sounds legend...</td>\n",
       "    </tr>\n",
       "    <tr>\n",
       "      <th>...</th>\n",
       "      <td>...</td>\n",
       "      <td>...</td>\n",
       "      <td>...</td>\n",
       "    </tr>\n",
       "    <tr>\n",
       "      <th>160</th>\n",
       "      <td>-0.1</td>\n",
       "      <td>0.9</td>\n",
       "      <td>[So constitutionally and democratically electe...</td>\n",
       "    </tr>\n",
       "    <tr>\n",
       "      <th>161</th>\n",
       "      <td>0.0</td>\n",
       "      <td>1.7</td>\n",
       "      <td>[Of course., @ShahidForChange is the King of a...</td>\n",
       "    </tr>\n",
       "    <tr>\n",
       "      <th>162</th>\n",
       "      <td>0.6</td>\n",
       "      <td>2.7</td>\n",
       "      <td>[HEY!, I hope you're doing AMAZINGLY well duri...</td>\n",
       "    </tr>\n",
       "    <tr>\n",
       "      <th>163</th>\n",
       "      <td>0.2</td>\n",
       "      <td>1.0</td>\n",
       "      <td>[WE HOPE YOU ARE ALL DOING AIGHT., Stay Safe e...</td>\n",
       "    </tr>\n",
       "    <tr>\n",
       "      <th>164</th>\n",
       "      <td>0.0</td>\n",
       "      <td>1.1</td>\n",
       "      <td>[Wait who else is watching 90Days Fiance...., ...</td>\n",
       "    </tr>\n",
       "  </tbody>\n",
       "</table>\n",
       "<p>165 rows × 3 columns</p>\n",
       "</div>"
      ],
      "text/plain": [
       "     Score  Magnitude                                               Text\n",
       "0      0.2        0.5  [only legends will remember this intro, #NoMor...\n",
       "1      0.5        0.5  [Guys go support this new group I heard their ...\n",
       "2     -0.2        1.5  [#NoMoreDreamIsComing \\n#DebutWithBTS\\n#BTSONH...\n",
       "3     -0.1        0.4  [I don’t know why but he’s really speaking to ...\n",
       "4     -0.1        0.2  [Are you the BTS boys?, You guys sounds legend...\n",
       "..     ...        ...                                                ...\n",
       "160   -0.1        0.9  [So constitutionally and democratically electe...\n",
       "161    0.0        1.7  [Of course., @ShahidForChange is the King of a...\n",
       "162    0.6        2.7  [HEY!, I hope you're doing AMAZINGLY well duri...\n",
       "163    0.2        1.0  [WE HOPE YOU ARE ALL DOING AIGHT., Stay Safe e...\n",
       "164    0.0        1.1  [Wait who else is watching 90Days Fiance...., ...\n",
       "\n",
       "[165 rows x 3 columns]"
      ]
     },
     "execution_count": 13,
     "metadata": {},
     "output_type": "execute_result"
    }
   ],
   "source": [
    "df"
   ]
  },
  {
   "cell_type": "code",
   "execution_count": 37,
   "metadata": {},
   "outputs": [
    {
     "data": {
      "text/plain": [
       "60"
      ]
     },
     "execution_count": 37,
     "metadata": {},
     "output_type": "execute_result"
    }
   ],
   "source": [
    "len(data[11])"
   ]
  },
  {
   "cell_type": "code",
   "execution_count": null,
   "metadata": {},
   "outputs": [],
   "source": [
    "mar1"
   ]
  },
  {
   "cell_type": "code",
   "execution_count": null,
   "metadata": {},
   "outputs": [],
   "source": []
  }
 ],
 "metadata": {
  "kernelspec": {
   "display_name": "Python 3",
   "language": "python",
   "name": "python3"
  },
  "language_info": {
   "codemirror_mode": {
    "name": "ipython",
    "version": 3
   },
   "file_extension": ".py",
   "mimetype": "text/x-python",
   "name": "python",
   "nbconvert_exporter": "python",
   "pygments_lexer": "ipython3",
   "version": "3.7.6"
  }
 },
 "nbformat": 4,
 "nbformat_minor": 4
}
