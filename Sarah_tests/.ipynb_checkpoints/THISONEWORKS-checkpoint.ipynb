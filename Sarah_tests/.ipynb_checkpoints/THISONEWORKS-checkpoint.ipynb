{
 "cells": [
  {
   "cell_type": "code",
   "execution_count": 2,
   "metadata": {},
   "outputs": [],
   "source": [
    "import json\n",
    "import time\n",
    "from google.cloud import language_v1\n",
    "content = []\n",
    "magnitude = []\n",
    "score = []\n",
    "client = language_v1.LanguageServiceClient()\n",
    "\n",
    "# Available types: PLAIN_TEXT, HTML\n",
    "type_ = language_v1.Document.Type.PLAIN_TEXT\n",
    "\n",
    "def getSentiment(text_content):\n",
    "    language = \"en\"\n",
    "    document = {\"content\": text_content, \"type_\": type_, \"language\": language}\n",
    "\n",
    "    # Available values: NONE, UTF8, UTF16, UTF32\n",
    "    encoding_type = language_v1.EncodingType.UTF8\n",
    "\n",
    "    response = client.analyze_sentiment(request = {'document': document, 'encoding_type': encoding_type})\n",
    "    print(response)\n",
    "    return response\n",
    "    \n",
    "\n",
    "# print(response)\n",
    "# # Get overall sentiment of the input document\n",
    "# print(u\"Document sentiment score: {}\".format(response.document_sentiment.score))\n",
    "# print(\n",
    "#     u\"Document sentiment magnitude: {}\".format(\n",
    "#         response.document_sentiment.magnitude\n",
    "#     )\n",
    "# )\n",
    "# # Get sentiment for all sentences in the document\n",
    "# for sentence in response.sentences:\n",
    "#     print(u\"Sentence text: {}\".format(sentence.text.content))\n",
    "#     print(u\"Sentence sentiment score: {}\".format(sentence.sentiment.score))\n",
    "#     print(u\"Sentence sentiment magnitude: {}\".format(sentence.sentiment.magnitude))\n",
    "\n",
    "# # Get the language of the text, which will be the same as\n",
    "# # the language specified in the request or, if not specified,\n",
    "# # the automatically-detected language.\n",
    "# print(u\"Language of the text: {}\".format(response.language))\n"
   ]
  },
  {
   "cell_type": "code",
   "execution_count": 3,
   "metadata": {},
   "outputs": [
    {
     "data": {
      "text/plain": [
       "120"
      ]
     },
     "execution_count": 3,
     "metadata": {},
     "output_type": "execute_result"
    }
   ],
   "source": [
    "from testdata import data\n",
    "len(data)"
   ]
  },
  {
   "cell_type": "code",
   "execution_count": null,
   "metadata": {},
   "outputs": [],
   "source": [
    "len(data[0])"
   ]
  },
  {
   "cell_type": "code",
   "execution_count": null,
   "metadata": {},
   "outputs": [],
   "source": [
    "data[0]"
   ]
  },
  {
   "cell_type": "code",
   "execution_count": null,
   "metadata": {},
   "outputs": [],
   "source": [
    "trend1 = []"
   ]
  },
  {
   "cell_type": "code",
   "execution_count": null,
   "metadata": {},
   "outputs": [],
   "source": [
    "for topic in data:\n",
    "    for tweet in topic[:10]:\n",
    "        print(getSentiment(str(tweet)))\n",
    "        print()"
   ]
  },
  {
   "cell_type": "code",
   "execution_count": null,
   "metadata": {},
   "outputs": [],
   "source": [
    "type(sample_list[0][0])"
   ]
  },
  {
   "cell_type": "code",
   "execution_count": null,
   "metadata": {},
   "outputs": [],
   "source": []
  },
  {
   "cell_type": "code",
   "execution_count": null,
   "metadata": {},
   "outputs": [],
   "source": [
    "type(tren"
   ]
  },
  {
   "cell_type": "code",
   "execution_count": null,
   "metadata": {},
   "outputs": [],
   "source": []
  },
  {
   "cell_type": "code",
   "execution_count": null,
   "metadata": {},
   "outputs": [],
   "source": [
    "type(trend_1[0])"
   ]
  },
  {
   "cell_type": "code",
   "execution_count": null,
   "metadata": {},
   "outputs": [],
   "source": [
    "trend_1"
   ]
  },
  {
   "cell_type": "code",
   "execution_count": null,
   "metadata": {},
   "outputs": [],
   "source": [
    "with open('test.txt', 'w') as f:\n",
    "    f.write(json.dumps((str(trend_1))))"
   ]
  },
  {
   "cell_type": "code",
   "execution_count": null,
   "metadata": {},
   "outputs": [],
   "source": []
  },
  {
   "cell_type": "code",
   "execution_count": null,
   "metadata": {},
   "outputs": [],
   "source": [
    "trend_1 = []\n",
    "sample_list =[]\n",
    "counter = 0\n",
    "for topic in data[:1]:\n",
    "    for tweet in topic:\n",
    "        result_json = getSentiment(str(tweet)).__class__.to_json(getSentiment(str(tweet)))\n",
    "        result_dict = json.loads(result_json)\n",
    "        sample_list.append([result_dict['documentSentiment']['magnitude'], result_dict['documentSentiment']['score']])\n",
    "        print(result_dict['documentSentiment']['magnitude'])\n",
    "    counter += 1\n",
    "    with open('results_test' + counter + '.csv', 'w', encoding=\"utf-8\") as filehandle:\n",
    "        for listitem in March:\n",
    "            filehandle.write('%s\\n' % listitem)\n",
    "    #time.sleep(60)\n",
    "    \n",
    "        #abc.append(getSentiment(str(tweet)))\n",
    "        #content.append(u\"Sentence text: {}\".format(sentence.text.content))\n",
    "        #score.append(u\"Sentence sentiment score: {}\".format(sentence.sentiment.score))\n",
    "        #magnitude.append(u\"Sentence sentiment magnitude: {}\".format(sentence.sentiment.magnitude))\n",
    "        #print(tweet)\n",
    "    #sample_list.append(abc)"
   ]
  },
  {
   "cell_type": "code",
   "execution_count": null,
   "metadata": {},
   "outputs": [],
   "source": [
    "sample_list[0]"
   ]
  },
  {
   "cell_type": "code",
   "execution_count": null,
   "metadata": {},
   "outputs": [],
   "source": [
    "print(sample_list[0]['documentSentiment']['magnitude'])"
   ]
  },
  {
   "cell_type": "code",
   "execution_count": null,
   "metadata": {},
   "outputs": [],
   "source": [
    "len(data)"
   ]
  },
  {
   "cell_type": "code",
   "execution_count": null,
   "metadata": {},
   "outputs": [],
   "source": []
  }
 ],
 "metadata": {
  "kernelspec": {
   "display_name": "Python 3",
   "language": "python",
   "name": "python3"
  },
  "language_info": {
   "codemirror_mode": {
    "name": "ipython",
    "version": 3
   },
   "file_extension": ".py",
   "mimetype": "text/x-python",
   "name": "python",
   "nbconvert_exporter": "python",
   "pygments_lexer": "ipython3",
   "version": "3.7.6"
  }
 },
 "nbformat": 4,
 "nbformat_minor": 4
}
