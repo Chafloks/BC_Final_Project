{
 "cells": [
  {
   "cell_type": "code",
   "execution_count": 1,
   "metadata": {},
   "outputs": [],
   "source": [
    "import json\n",
    "import time\n",
    "import pandas as pd\n",
    "from google.cloud import language_v1\n",
    "content = []\n",
    "magnitude = []\n",
    "score = []\n",
    "client = language_v1.LanguageServiceClient()\n",
    "\n",
    "# Available types: PLAIN_TEXT, HTML\n",
    "type_ = language_v1.Document.Type.PLAIN_TEXT\n",
    "\n",
    "def getSentiment(text_content):\n",
    "    language = \"en\"\n",
    "    document = {\"content\": text_content, \"type_\": type_, \"language\": language}\n",
    "\n",
    "    # Available values: NONE, UTF8, UTF16, UTF32\n",
    "    encoding_type = language_v1.EncodingType.UTF8\n",
    "\n",
    "    response = client.analyze_sentiment(request = {'document': document, 'encoding_type': encoding_type})\n",
    "    #print(response)\n",
    "    return response\n",
    "    \n",
    "\n",
    "# print(response)\n",
    "# # Get overall sentiment of the input document\n",
    "# print(u\"Document sentiment score: {}\".format(response.document_sentiment.score))\n",
    "# print(\n",
    "#     u\"Document sentiment magnitude: {}\".format(\n",
    "#         response.document_sentiment.magnitude\n",
    "#     )\n",
    "# )\n",
    "# # Get sentiment for all sentences in the document\n",
    "# for sentence in response.sentences:\n",
    "#     print(u\"Sentence text: {}\".format(sentence.text.content))\n",
    "#     print(u\"Sentence sentiment score: {}\".format(sentence.sentiment.score))\n",
    "#     print(u\"Sentence sentiment magnitude: {}\".format(sentence.sentiment.magnitude))\n",
    "\n",
    "# # Get the language of the text, which will be the same as\n",
    "# # the language specified in the request or, if not specified,\n",
    "# # the automatically-detected language.\n",
    "# print(u\"Language of the text: {}\".format(response.language))\n"
   ]
  },
  {
   "cell_type": "code",
   "execution_count": 2,
   "metadata": {},
   "outputs": [
    {
     "data": {
      "text/plain": [
       "93"
      ]
     },
     "execution_count": 2,
     "metadata": {},
     "output_type": "execute_result"
    }
   ],
   "source": [
    "from march import data\n",
    "len(data)"
   ]
  },
  {
   "cell_type": "code",
   "execution_count": null,
   "metadata": {},
   "outputs": [],
   "source": [
    "len(data[0])"
   ]
  },
  {
   "cell_type": "code",
   "execution_count": null,
   "metadata": {},
   "outputs": [],
   "source": [
    "data"
   ]
  },
  {
   "cell_type": "code",
   "execution_count": null,
   "metadata": {},
   "outputs": [],
   "source": [
    "trend1 = []"
   ]
  },
  {
   "cell_type": "code",
   "execution_count": null,
   "metadata": {},
   "outputs": [],
   "source": [
    "for topic in data:\n",
    "    for tweet in topic[:10]:\n",
    "        print(getSentiment(str(tweet)))\n",
    "        print()"
   ]
  },
  {
   "cell_type": "code",
   "execution_count": null,
   "metadata": {},
   "outputs": [],
   "source": [
    "type(sample_list[0][0])"
   ]
  },
  {
   "cell_type": "code",
   "execution_count": null,
   "metadata": {},
   "outputs": [],
   "source": []
  },
  {
   "cell_type": "code",
   "execution_count": null,
   "metadata": {},
   "outputs": [],
   "source": [
    "type(tren"
   ]
  },
  {
   "cell_type": "code",
   "execution_count": null,
   "metadata": {},
   "outputs": [],
   "source": []
  },
  {
   "cell_type": "code",
   "execution_count": null,
   "metadata": {},
   "outputs": [],
   "source": [
    "type(trend_1[0])"
   ]
  },
  {
   "cell_type": "code",
   "execution_count": null,
   "metadata": {},
   "outputs": [],
   "source": [
    "trend_1"
   ]
  },
  {
   "cell_type": "code",
   "execution_count": null,
   "metadata": {},
   "outputs": [],
   "source": [
    "with open('test.txt', 'w') as f:\n",
    "    f.write(json.dumps((str(trend_1))))"
   ]
  },
  {
   "cell_type": "code",
   "execution_count": null,
   "metadata": {},
   "outputs": [],
   "source": []
  },
  {
   "cell_type": "code",
   "execution_count": 102,
   "metadata": {},
   "outputs": [],
   "source": [
    "df = pd.DataFrame()\n",
    "score_l = []\n",
    "mag_l = []\n",
    "text_l = []\n",
    "\n",
    "trend_1 = []\n",
    "sample_list =[]\n",
    "counter = 0\n",
    "for topic in data[75:78]:\n",
    "    for tweet in topic:\n",
    "        result = getSentiment(str(tweet))#.__class__.to_json(getSentiment(str(tweet)))\n",
    "        #result_dict = json.loads(result_json)\n",
    "        #sample_list.append([result_dict['documentSentiment']['magnitude'], result_dict['documentSentiment']['score']])\n",
    "       # print(result_dict['documentSentiment']['magnitude'])\n",
    "        score_l.append(result.document_sentiment.score)\n",
    "        mag_l.append(result.document_sentiment.magnitude)\n",
    "        sent_l = []\n",
    "        for sent in result.sentences:\n",
    "            sent_l.append(sent.text.content)\n",
    "        text_l.append(sent_l)\n",
    "df = pd.DataFrame({\"Score\":score_l,\"Magnitude\":mag_l,\"Text\":text_l})\n",
    "        #print('============')\n",
    "#     counter += 1\n",
    "#     with open('results_test' + str(counter) + '.csv', 'w', encoding=\"utf-8\") as filehandle:\n",
    "#         for listitem in March:\n",
    "#             filehandle.write('%s\\n' % listitem)\n",
    "    #time.sleep(60)\n",
    "    \n",
    "        #abc.append(getSentiment(str(tweet)))\n",
    "        #content.append(u\"Sentence text: {}\".format(sentence.text.content))\n",
    "        #score.append(u\"Sentence sentiment score: {}\".format(sentence.sentiment.score))\n",
    "        #magnitude.append(u\"Sentence sentiment magnitude: {}\".format(sentence.sentiment.magnitude))\n",
    "        #print(tweet)\n",
    "    #sample_list.append(abc)"
   ]
  },
  {
   "cell_type": "code",
   "execution_count": 104,
   "metadata": {},
   "outputs": [],
   "source": [
    "mar26 = df \n",
    "mar26.to_csv(\"mar26.csv\")"
   ]
  },
  {
   "cell_type": "code",
   "execution_count": 103,
   "metadata": {},
   "outputs": [
    {
     "data": {
      "text/html": [
       "<div>\n",
       "<style scoped>\n",
       "    .dataframe tbody tr th:only-of-type {\n",
       "        vertical-align: middle;\n",
       "    }\n",
       "\n",
       "    .dataframe tbody tr th {\n",
       "        vertical-align: top;\n",
       "    }\n",
       "\n",
       "    .dataframe thead th {\n",
       "        text-align: right;\n",
       "    }\n",
       "</style>\n",
       "<table border=\"1\" class=\"dataframe\">\n",
       "  <thead>\n",
       "    <tr style=\"text-align: right;\">\n",
       "      <th></th>\n",
       "      <th>Score</th>\n",
       "      <th>Magnitude</th>\n",
       "      <th>Text</th>\n",
       "    </tr>\n",
       "  </thead>\n",
       "  <tbody>\n",
       "    <tr>\n",
       "      <th>0</th>\n",
       "      <td>0.8</td>\n",
       "      <td>0.8</td>\n",
       "      <td>[RT if you miss this place  #Dodgers #OpeningD...</td>\n",
       "    </tr>\n",
       "    <tr>\n",
       "      <th>1</th>\n",
       "      <td>-0.3</td>\n",
       "      <td>0.8</td>\n",
       "      <td>[Not all historical photos were meant to be se...</td>\n",
       "    </tr>\n",
       "    <tr>\n",
       "      <th>2</th>\n",
       "      <td>-0.5</td>\n",
       "      <td>0.5</td>\n",
       "      <td>[Since there was no @whitesox Opening Day, I h...</td>\n",
       "    </tr>\n",
       "    <tr>\n",
       "      <th>3</th>\n",
       "      <td>0.0</td>\n",
       "      <td>0.0</td>\n",
       "      <td>[this is how tonight shoulda been #OpeningDayA...</td>\n",
       "    </tr>\n",
       "    <tr>\n",
       "      <th>4</th>\n",
       "      <td>0.4</td>\n",
       "      <td>2.6</td>\n",
       "      <td>[I tried to capture as many #OpeningDayAtHome ...</td>\n",
       "    </tr>\n",
       "    <tr>\n",
       "      <th>...</th>\n",
       "      <td>...</td>\n",
       "      <td>...</td>\n",
       "      <td>...</td>\n",
       "    </tr>\n",
       "    <tr>\n",
       "      <th>184</th>\n",
       "      <td>0.0</td>\n",
       "      <td>0.0</td>\n",
       "      <td>[My self-isolation diet is 20% Triscuits (“wit...</td>\n",
       "    </tr>\n",
       "    <tr>\n",
       "      <th>185</th>\n",
       "      <td>-0.3</td>\n",
       "      <td>0.3</td>\n",
       "      <td>[How TRISCUITS Got Their Name Goes Viral https...</td>\n",
       "    </tr>\n",
       "    <tr>\n",
       "      <th>186</th>\n",
       "      <td>-0.2</td>\n",
       "      <td>0.2</td>\n",
       "      <td>[Triscuits are called Triscuits because they’l...</td>\n",
       "    </tr>\n",
       "    <tr>\n",
       "      <th>187</th>\n",
       "      <td>-0.6</td>\n",
       "      <td>0.6</td>\n",
       "      <td>[Definitely not logging into every Twitter acc...</td>\n",
       "    </tr>\n",
       "    <tr>\n",
       "      <th>188</th>\n",
       "      <td>0.3</td>\n",
       "      <td>0.3</td>\n",
       "      <td>[Your smile for Thursday - go to the Sage Bogg...</td>\n",
       "    </tr>\n",
       "  </tbody>\n",
       "</table>\n",
       "<p>189 rows × 3 columns</p>\n",
       "</div>"
      ],
      "text/plain": [
       "     Score  Magnitude                                               Text\n",
       "0      0.8        0.8  [RT if you miss this place  #Dodgers #OpeningD...\n",
       "1     -0.3        0.8  [Not all historical photos were meant to be se...\n",
       "2     -0.5        0.5  [Since there was no @whitesox Opening Day, I h...\n",
       "3      0.0        0.0  [this is how tonight shoulda been #OpeningDayA...\n",
       "4      0.4        2.6  [I tried to capture as many #OpeningDayAtHome ...\n",
       "..     ...        ...                                                ...\n",
       "184    0.0        0.0  [My self-isolation diet is 20% Triscuits (“wit...\n",
       "185   -0.3        0.3  [How TRISCUITS Got Their Name Goes Viral https...\n",
       "186   -0.2        0.2  [Triscuits are called Triscuits because they’l...\n",
       "187   -0.6        0.6  [Definitely not logging into every Twitter acc...\n",
       "188    0.3        0.3  [Your smile for Thursday - go to the Sage Bogg...\n",
       "\n",
       "[189 rows x 3 columns]"
      ]
     },
     "execution_count": 103,
     "metadata": {},
     "output_type": "execute_result"
    }
   ],
   "source": [
    "df"
   ]
  },
  {
   "cell_type": "code",
   "execution_count": 37,
   "metadata": {},
   "outputs": [
    {
     "data": {
      "text/plain": [
       "60"
      ]
     },
     "execution_count": 37,
     "metadata": {},
     "output_type": "execute_result"
    }
   ],
   "source": [
    "len(data[11])"
   ]
  },
  {
   "cell_type": "code",
   "execution_count": null,
   "metadata": {},
   "outputs": [],
   "source": [
    "mar1"
   ]
  },
  {
   "cell_type": "code",
   "execution_count": null,
   "metadata": {},
   "outputs": [],
   "source": []
  }
 ],
 "metadata": {
  "kernelspec": {
   "display_name": "Python 3",
   "language": "python",
   "name": "python3"
  },
  "language_info": {
   "codemirror_mode": {
    "name": "ipython",
    "version": 3
   },
   "file_extension": ".py",
   "mimetype": "text/x-python",
   "name": "python",
   "nbconvert_exporter": "python",
   "pygments_lexer": "ipython3",
   "version": "3.7.6"
  }
 },
 "nbformat": 4,
 "nbformat_minor": 4
}
