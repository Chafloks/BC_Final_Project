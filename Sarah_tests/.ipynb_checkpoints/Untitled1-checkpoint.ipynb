{
 "cells": [
  {
   "cell_type": "code",
   "execution_count": null,
   "metadata": {},
   "outputs": [],
   "source": [
    "from google.cloud import language_v1\n",
    "\n",
    "client = language_v1.LanguageServiceClient()\n",
    "\n",
    "text_content = 'I am so happy and joyful.'\n",
    "\n",
    "# Available types: PLAIN_TEXT, HTML\n",
    "type_ = language_v1.Document.Type.PLAIN_TEXT\n",
    "\n",
    "language = \"en\"\n",
    "document = {\"content\": text_content, \"type_\": type_, \"language\": language}\n",
    "\n",
    "# Available values: NONE, UTF8, UTF16, UTF32\n",
    "encoding_type = language_v1.EncodingType.UTF8\n",
    "\n",
    "response = client.analyze_sentiment(request = {'document': document, 'encoding_type': encoding_type})\n",
    "print(response)\n",
    "# Get overall sentiment of the input document\n",
    "print(u\"Document sentiment score: {}\".format(response.document_sentiment.score))\n",
    "print(\n",
    "    u\"Document sentiment magnitude: {}\".format(\n",
    "        response.document_sentiment.magnitude\n",
    "    )\n",
    ")\n",
    "# Get sentiment for all sentences in the document\n",
    "for sentence in response.sentences:\n",
    "    print(u\"Sentence text: {}\".format(sentence.text.content))\n",
    "    print(u\"Sentence sentiment score: {}\".format(sentence.sentiment.score))\n",
    "    print(u\"Sentence sentiment magnitude: {}\".format(sentence.sentiment.magnitude))\n",
    "\n",
    "# Get the language of the text, which will be the same as\n",
    "# the language specified in the request or, if not specified,\n",
    "# the automatically-detected language.\n",
    "print(u\"Language of the text: {}\".format(response.language))\n"
   ]
  },
  {
   "cell_type": "code",
   "execution_count": null,
   "metadata": {},
   "outputs": [],
   "source": []
  }
 ],
 "metadata": {
  "kernelspec": {
   "display_name": "Python 3",
   "language": "python",
   "name": "python3"
  },
  "language_info": {
   "codemirror_mode": {
    "name": "ipython",
    "version": 3
   },
   "file_extension": ".py",
   "mimetype": "text/x-python",
   "name": "python",
   "nbconvert_exporter": "python",
   "pygments_lexer": "ipython3",
   "version": "3.7.6"
  }
 },
 "nbformat": 4,
 "nbformat_minor": 4
}
