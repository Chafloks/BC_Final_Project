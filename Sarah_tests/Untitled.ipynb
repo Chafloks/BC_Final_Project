{
 "cells": [
  {
   "cell_type": "code",
   "execution_count": 13,
   "metadata": {},
   "outputs": [],
   "source": [
    "from google.cloud import language_v1"
   ]
  },
  {
   "cell_type": "code",
   "execution_count": 12,
   "metadata": {},
   "outputs": [],
   "source": [
    "def sample_analyze_sentiment(text_content):\n",
    "   \n",
    "\n",
    "    client = language_v1.LanguageServiceClient()\n",
    "\n",
    "    text_content = \"I am so happy and joyful.\"\n",
    "\n",
    "    # Available types: PLAIN_TEXT, HTML\n",
    "    type_ = language_v1.Document.Type.PLAIN_TEXT\n",
    "\n",
    "    # Optional. If not specified, the language is automatically detected.\n",
    "    # For list of supported languages:\n",
    "    # https://cloud.google.com/natural-language/docs/languages\n",
    "    language = \"en\"\n",
    "    document = {\"content\": text_content, \"type_\": type_, \"language\": language}\n",
    "\n",
    "    # Available values: NONE, UTF8, UTF16, UTF32\n",
    "    encoding_type = language_v1.EncodingType.UTF8\n",
    "\n",
    "    response = client.analyze_sentiment(request = {'document': document, 'encoding_type': encoding_type})\n",
    "    # Get overall sentiment of the input document\n",
    "    print(u\"Document sentiment score: {}\".format(response.document_sentiment.score))\n",
    "    print(u\"Document sentiment magnitude: {}\".format(\n",
    "            response.document_sentiment.magnitude\n",
    "        )\n",
    "    )\n",
    "    # Get sentiment for all sentences in the document\n",
    "    for sentence in response.sentences:\n",
    "        print(u\"Sentence text: {}\".format(sentence.text.content))\n",
    "        print(u\"Sentence sentiment score: {}\".format(sentence.sentiment.score))\n",
    "        print(u\"Sentence sentiment magnitude: {}\".format(sentence.sentiment.magnitude))\n",
    "\n",
    "    # Get the language of the text, which will be the same as\n",
    "    # the language specified in the request or, if not specified,\n",
    "    # the automatically-detected language.\n",
    "    print(u\"Language of the text: {}\".format(response.language)) "
   ]
  },
  {
   "cell_type": "code",
   "execution_count": 14,
   "metadata": {},
   "outputs": [
    {
     "name": "stdout",
     "output_type": "stream",
     "text": [
      "Collecting functions-framework\n",
      "  Downloading functions_framework-2.0.0-py3-none-any.whl (21 kB)\n",
      "Requirement already satisfied: click<8.0,>=7.0 in /opt/anaconda3/lib/python3.7/site-packages (from functions-framework) (7.0)\n",
      "Collecting cloudevents<1.0\n",
      "  Downloading cloudevents-0.3.0-py3-none-any.whl (26 kB)\n",
      "Collecting gunicorn<21.0,>=19.2.0; platform_system != \"Windows\"\n",
      "  Downloading gunicorn-20.0.4-py2.py3-none-any.whl (77 kB)\n",
      "\u001b[K     |████████████████████████████████| 77 kB 1.5 MB/s eta 0:00:01\n",
      "\u001b[?25hRequirement already satisfied: flask<2.0,>=1.0 in /opt/anaconda3/lib/python3.7/site-packages (from functions-framework) (1.1.1)\n",
      "Requirement already satisfied: watchdog>=0.10.0 in /opt/anaconda3/lib/python3.7/site-packages (from functions-framework) (0.10.2)\n",
      "Requirement already satisfied: setuptools>=3.0 in /opt/anaconda3/lib/python3.7/site-packages (from gunicorn<21.0,>=19.2.0; platform_system != \"Windows\"->functions-framework) (46.0.0.post20200309)\n",
      "Requirement already satisfied: itsdangerous>=0.24 in /opt/anaconda3/lib/python3.7/site-packages (from flask<2.0,>=1.0->functions-framework) (1.1.0)\n",
      "Requirement already satisfied: Jinja2>=2.10.1 in /opt/anaconda3/lib/python3.7/site-packages (from flask<2.0,>=1.0->functions-framework) (2.11.1)\n",
      "Requirement already satisfied: Werkzeug>=0.15 in /opt/anaconda3/lib/python3.7/site-packages (from flask<2.0,>=1.0->functions-framework) (1.0.0)\n",
      "Requirement already satisfied: pathtools>=0.1.1 in /opt/anaconda3/lib/python3.7/site-packages (from watchdog>=0.10.0->functions-framework) (0.1.2)\n",
      "Requirement already satisfied: MarkupSafe>=0.23 in /opt/anaconda3/lib/python3.7/site-packages (from Jinja2>=2.10.1->flask<2.0,>=1.0->functions-framework) (1.1.1)\n",
      "Installing collected packages: cloudevents, gunicorn, functions-framework\n",
      "Successfully installed cloudevents-0.3.0 functions-framework-2.0.0 gunicorn-20.0.4\n",
      "Note: you may need to restart the kernel to use updated packages.\n"
     ]
    }
   ],
   "source": [
    "pip install functions-framework"
   ]
  },
  {
   "cell_type": "code",
   "execution_count": null,
   "metadata": {},
   "outputs": [],
   "source": []
  }
 ],
 "metadata": {
  "kernelspec": {
   "display_name": "Python 3",
   "language": "python",
   "name": "python3"
  },
  "language_info": {
   "codemirror_mode": {
    "name": "ipython",
    "version": 3
   },
   "file_extension": ".py",
   "mimetype": "text/x-python",
   "name": "python",
   "nbconvert_exporter": "python",
   "pygments_lexer": "ipython3",
   "version": "3.7.6"
  }
 },
 "nbformat": 4,
 "nbformat_minor": 4
}
