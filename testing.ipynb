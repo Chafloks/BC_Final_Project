{
 "cells": [
  {
   "cell_type": "code",
   "execution_count": 1,
   "metadata": {},
   "outputs": [],
   "source": [
    "from selenium import webdriver\n",
    "from selenium.webdriver.common.keys import Keys\n",
    "import time\n",
    "import pandas as pd\n",
    "import requests\n",
    "from selenium.webdriver.common.by import By\n",
    "from selenium.webdriver.support.ui import WebDriverWait\n",
    "from selenium.webdriver.support import expected_conditions as EC"
   ]
  },
  {
   "cell_type": "code",
   "execution_count": 2,
   "metadata": {},
   "outputs": [],
   "source": [
    "path = \"C:\\Program Files (x86)\\chromedriver.exe\"\n",
    "driver = webdriver.Chrome(path)\n",
    "driver.get(\"https://us.trend-calendar.com/trend/2020-01-01.html\")"
   ]
  },
  {
   "cell_type": "code",
   "execution_count": 4,
   "metadata": {},
   "outputs": [],
   "source": [
    "counter = 4\n",
    "trend = {}\n",
    "while counter != 0:\n",
    "    counter -= 1\n",
    "    header = driver.find_elements_by_class_name(\"entry-title\")\n",
    "    for content in header:\n",
    "        text = content.text\n",
    "    date = text.split(\"on \",1)[1]\n",
    "    contents = driver.find_elements_by_class_name(\"ranking\")\n",
    "    res = []\n",
    "    for content in contents:\n",
    "        text = content.text\n",
    "        if text != '' :\n",
    "            res.append(text)\n",
    "    trends = res[0]  \n",
    "    trend1 = trends.split(\"\\n\")[:5]\n",
    "    trend[date] = trend1\n",
    "    for i in range(4):\n",
    "        element = WebDriverWait(driver, 10).until(EC.element_to_be_clickable((By.LINK_TEXT, trend1[i])))\n",
    "        element.click()\n",
    "        driver.close()\n",
    "        time.sleep(3)\n",
    "    trends = []\n",
    "    # click submit button\n",
    "    submit_button = driver.find_elements_by_class_name(\"yesterdaytomorrow\")[1]\n",
    "    submit_button.click()\n",
    "    time.sleep(2)"
   ]
  },
  {
   "cell_type": "code",
   "execution_count": null,
   "metadata": {},
   "outputs": [],
   "source": [
    "contents = driver.find_elements_by_class_name(\"ranking\")\n",
    "res = []\n",
    "for content in contents:\n",
    "    text = content.text\n",
    "    if text != '' :\n",
    "        res.append(text)\n",
    "trends = res[0]\n",
    "trend1 = trends.split(\"\\n\")[:5]\n",
    "for i in range(4):\n",
    "    element = WebDriverWait(driver, 10).until(EC.element_to_be_clickable((By.LINK_TEXT, trend1[i])))\n",
    "    element.click()\n",
    "    time.sleep(3)\n",
    "trends = [] "
   ]
  },
  {
   "cell_type": "code",
   "execution_count": null,
   "metadata": {},
   "outputs": [],
   "source": [
    "contents = driver.find_elements_by_class_name(\"ranking\")\n",
    "res = []\n",
    "for content in contents:\n",
    "    text = content.text\n",
    "    if text != '' :\n",
    "        res.append(text)\n",
    "trends = res[0] \n",
    "trend1 = trends.split(\"\\n\")[:5]\n",
    "trend[1]"
   ]
  },
  {
   "cell_type": "code",
   "execution_count": null,
   "metadata": {},
   "outputs": [],
   "source": []
  }
 ],
 "metadata": {
  "kernelspec": {
   "display_name": "Python 3",
   "language": "python",
   "name": "python3"
  },
  "language_info": {
   "codemirror_mode": {
    "name": "ipython",
    "version": 3
   },
   "file_extension": ".py",
   "mimetype": "text/x-python",
   "name": "python",
   "nbconvert_exporter": "python",
   "pygments_lexer": "ipython3",
   "version": "3.7.6"
  }
 },
 "nbformat": 4,
 "nbformat_minor": 4
}
